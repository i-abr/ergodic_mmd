{
 "cells": [
  {
   "cell_type": "code",
   "execution_count": 1,
   "metadata": {},
   "outputs": [
    {
     "name": "stdout",
     "output_type": "stream",
     "text": [
      "Jupyter environment detected. Enabling Open3D WebVisualizer.\n",
      "[Open3D INFO] WebRTC GUI backend enabled.\n",
      "[Open3D INFO] WebRTCWindowSystem: HTTP handshake server disabled.\n"
     ]
    }
   ],
   "source": [
    "import sys \n",
    "sys.path.append('../')\n",
    "import jax \n",
    "import jax.numpy as jnp \n",
    "import numpy as np\n",
    "from jax.random import normal\n",
    "from jax import grad, hessian, vmap, pmap\n",
    "from jax.flatten_util import ravel_pytree\n",
    "from jax.lax import scan\n",
    "from functools import partial\n",
    "import jax.random as jax_random\n",
    "import matplotlib.pyplot as plt \n",
    "from IPython.display import clear_output\n",
    "from plyfile import PlyData\n",
    "import open3d as o3d \n",
    "import trimesh as tm\n",
    "from trimesh.points import tsp\n",
    "\n",
    "import jaxopt\n",
    "import polyscope as ps\n",
    "\n",
    "from ergodic_mmd.aug_lagrange_jaxopt import AugmentedLagrangeSolver"
   ]
  },
  {
   "cell_type": "code",
   "execution_count": 2,
   "metadata": {},
   "outputs": [],
   "source": [
    "def RBF_kernel(x, xp, h=0.01):\n",
    "    return jnp.exp(\n",
    "        -jnp.sum((x-xp)**2)/h\n",
    "    )\n",
    "def create_kernel_matrix(kernel):\n",
    "    return vmap(vmap(kernel, in_axes=(0, None, None)), in_axes=(None, 0, None))"
   ]
  },
  {
   "cell_type": "code",
   "execution_count": 27,
   "metadata": {},
   "outputs": [
    {
     "ename": "KeyError",
     "evalue": "'msh'",
     "output_type": "error",
     "traceback": [
      "\u001b[0;31m---------------------------------------------------------------------------\u001b[0m",
      "\u001b[0;31mKeyError\u001b[0m                                  Traceback (most recent call last)",
      "Cell \u001b[0;32mIn[27], line 1\u001b[0m\n\u001b[0;32m----> 1\u001b[0m mesh \u001b[38;5;241m=\u001b[39m \u001b[43mtm\u001b[49m\u001b[38;5;241;43m.\u001b[39;49m\u001b[43mload_mesh\u001b[49m\u001b[43m(\u001b[49m\u001b[38;5;124;43m\"\u001b[39;49m\u001b[38;5;124;43m../assets/windturbine_structure.msh\u001b[39;49m\u001b[38;5;124;43m\"\u001b[39;49m\u001b[43m)\u001b[49m\n\u001b[1;32m      2\u001b[0m \u001b[38;5;66;03m# mesh = tm.Trimesh(vertices=verts, faces=faces)\u001b[39;00m\n\u001b[1;32m      3\u001b[0m \u001b[38;5;66;03m# mesh.apply_scale(10)\u001b[39;00m\n\u001b[1;32m      5\u001b[0m num_points \u001b[38;5;241m=\u001b[39m \u001b[38;5;241m200\u001b[39m  \u001b[38;5;66;03m# Change this number based on your requirement\u001b[39;00m\n",
      "File \u001b[0;32m~/miniconda3/lib/python3.10/site-packages/trimesh/exchange/load.py:200\u001b[0m, in \u001b[0;36mload_mesh\u001b[0;34m(file_obj, file_type, resolver, **kwargs)\u001b[0m\n\u001b[1;32m    189\u001b[0m (\n\u001b[1;32m    190\u001b[0m     file_obj,  \u001b[38;5;66;03m# file-like object\u001b[39;00m\n\u001b[1;32m    191\u001b[0m     file_type,  \u001b[38;5;66;03m# str: what kind of file\u001b[39;00m\n\u001b[0;32m   (...)\u001b[0m\n\u001b[1;32m    194\u001b[0m     resolver,  \u001b[38;5;66;03m# Resolver: to load referenced resources\u001b[39;00m\n\u001b[1;32m    195\u001b[0m ) \u001b[38;5;241m=\u001b[39m _parse_file_args(file_obj\u001b[38;5;241m=\u001b[39mfile_obj, file_type\u001b[38;5;241m=\u001b[39mfile_type, resolver\u001b[38;5;241m=\u001b[39mresolver)\n\u001b[1;32m    197\u001b[0m \u001b[38;5;28;01mtry\u001b[39;00m:\n\u001b[1;32m    198\u001b[0m     \u001b[38;5;66;03m# make sure we keep passed kwargs to loader\u001b[39;00m\n\u001b[1;32m    199\u001b[0m     \u001b[38;5;66;03m# but also make sure loader keys override passed keys\u001b[39;00m\n\u001b[0;32m--> 200\u001b[0m     loader \u001b[38;5;241m=\u001b[39m \u001b[43mmesh_loaders\u001b[49m\u001b[43m[\u001b[49m\u001b[43mfile_type\u001b[49m\u001b[43m]\u001b[49m\n\u001b[1;32m    201\u001b[0m     tic \u001b[38;5;241m=\u001b[39m now()\n\u001b[1;32m    202\u001b[0m     results \u001b[38;5;241m=\u001b[39m loader(file_obj, file_type\u001b[38;5;241m=\u001b[39mfile_type, resolver\u001b[38;5;241m=\u001b[39mresolver, \u001b[38;5;241m*\u001b[39m\u001b[38;5;241m*\u001b[39mkwargs)\n",
      "\u001b[0;31mKeyError\u001b[0m: 'msh'"
     ]
    }
   ],
   "source": [
    "mesh = tm.load_mesh(\"../assets/windturbine_structure.msh\")\n",
    "# mesh = tm.Trimesh(vertices=verts, faces=faces)\n",
    "# mesh.apply_scale(10)\n",
    "\n",
    "num_points = 200  # Change this number based on your requirement\n",
    "points, face_indices = tm.sample.sample_surface(mesh, num_points)\n",
    "\n",
    "# traversal, distances = tsp(mesh.vertices)\n",
    "\n",
    "info_distr = lambda x: 1.0\n",
    "P_XI = vmap(info_distr, in_axes=(0,))(points)\n",
    "P_XI = P_XI/jnp.sum(P_XI)\n",
    "h = 0.1\n",
    "args = {'h' : h, 'points' : points+0.025*mesh.face_normals[face_indices], 'P_XI' : P_XI}"
   ]
  },
  {
   "cell_type": "code",
   "execution_count": 20,
   "metadata": {},
   "outputs": [],
   "source": [
    "KernelMatrix = create_kernel_matrix(RBF_kernel)\n",
    "def emmd_loss(params, args):\n",
    "    X = params['X']\n",
    "    T = X.shape[0]\n",
    "    h = args['h']\n",
    "    points    = args['points']\n",
    "    P_XI      = args['P_XI']\n",
    "    return np.sum(KernelMatrix(X, X, h))/(T**2) \\\n",
    "            - 2 * np.sum(P_XI @ KernelMatrix(X, points, h))/T + 2*jnp.mean(jnp.square(X[1:] - X[:-1]))\n",
    "\n",
    "def eq_constr(params, args):\n",
    "    # X = params['X']\n",
    "    return jnp.array(0.)\n",
    "\n",
    "def ineq_constr(params, args):\n",
    "    X = params['X']\n",
    "    return jnp.array(0.)\n"
   ]
  },
  {
   "cell_type": "code",
   "execution_count": 21,
   "metadata": {},
   "outputs": [],
   "source": [
    "T = 500\n",
    "X = jnp.linspace(mesh.bounds[0], mesh.bounds[1], num=T)\n",
    "\n",
    "params = {'X' : X}\n",
    "\n",
    "solver = AugmentedLagrangeSolver(params, emmd_loss, eq_constr, ineq_constr, args=args)\n"
   ]
  },
  {
   "cell_type": "code",
   "execution_count": 22,
   "metadata": {},
   "outputs": [
    {
     "name": "stdout",
     "output_type": "stream",
     "text": [
      "0 0.043504893980498276\n",
      "1 0.04312788739230472\n",
      "2 0.042242623769351624\n",
      "3 0.04021909177118872\n",
      "4 0.03574719736004658\n",
      "5 0.026344919522577996\n",
      "6 0.012936463114031528\n",
      "7 0.009139310508476375\n",
      "8 0.009529863605251692\n",
      "9 0.007210860288795055\n",
      "10 0.004359299199463897\n",
      "11 0.004007207019870438\n",
      "12 0.0036348482347789974\n",
      "13 0.0032445329976897824\n",
      "14 0.0026148654200426652\n",
      "15 0.0022821588358991\n",
      "16 0.00197307656976419\n",
      "17 0.0018206682241725164\n",
      "18 0.0015791751349817412\n",
      "19 0.0013118955410145676\n",
      "20 0.0012427933584157086\n",
      "21 0.001153552858674567\n",
      "22 0.0011650224383109558\n",
      "23 0.0010520169222306606\n",
      "24 0.0009445923948159367\n",
      "25 0.001303052715963851\n",
      "26 0.0009254173507695908\n",
      "27 0.0007247476399851134\n",
      "28 0.0007478495161108236\n",
      "29 0.0010897562614875424\n",
      "30 0.0008424202274733107\n",
      "31 0.0006417259307417839\n",
      "32 0.0006955548575823953\n",
      "33 0.0006819009308838727\n",
      "34 0.000691249956137817\n",
      "35 0.0006991426593163815\n",
      "36 0.0006606958803526615\n",
      "37 0.0005934270554403217\n",
      "38 0.0005955249211159914\n",
      "39 0.0005730393238671126\n",
      "40 0.0005697452652613789\n",
      "41 0.0005708075290093768\n",
      "42 0.0005897957947069223\n",
      "43 0.0005591092310459657\n",
      "44 0.0005113100811665514\n",
      "45 0.0005223624626415691\n",
      "46 0.0005088516953340951\n",
      "47 0.0005087187060471713\n",
      "48 0.000515244667718214\n",
      "49 0.0004915659531928777\n",
      "50 0.0004554204248720459\n",
      "51 0.0006862547141895799\n",
      "52 0.0004970017602117388\n",
      "53 0.00038011273551001487\n",
      "54 0.0004119539694189202\n",
      "55 0.0004076340410059973\n",
      "56 0.0004264863418505784\n",
      "57 0.00044189098126674203\n",
      "58 0.000414429464333038\n",
      "59 0.0003703511995260135\n",
      "60 0.00037940830860691023\n",
      "61 0.0003695776777338925\n",
      "62 0.0003713216813257497\n",
      "63 0.0003446772944123049\n",
      "64 0.00031099087653632614\n",
      "65 0.0004831480225117238\n",
      "66 0.00034820081859321313\n",
      "67 0.00025868889304593963\n",
      "68 0.0002773963880467819\n",
      "69 0.0002730340341360007\n",
      "70 0.00028685475725851367\n",
      "71 0.00027153265318552704\n",
      "72 0.0002500934520507009\n",
      "73 0.00040648588306579203\n",
      "74 0.0003010538470724895\n",
      "75 0.00023059936177106748\n",
      "76 0.00024772838028173255\n",
      "77 0.00024412223793044368\n",
      "78 0.00025515496016899553\n",
      "79 0.0002656362794125166\n",
      "80 0.0002505835782779367\n",
      "81 0.0002253186931273522\n",
      "82 0.00023523609329831894\n",
      "83 0.00023470437270961016\n",
      "84 0.0002405504384779395\n",
      "85 0.00024718370537825623\n",
      "86 0.00023501357712830663\n",
      "87 0.00021547223738250235\n",
      "88 0.0003563215348745465\n",
      "89 0.0002677660584154873\n",
      "90 0.00020645911183036383\n",
      "91 0.0002232211343037353\n",
      "92 0.00022027801891977134\n",
      "93 0.00022924402366555\n",
      "94 0.00023635756378110207\n",
      "95 0.00022515100934027827\n",
      "96 0.00020342020338347735\n",
      "97 0.00021140202138221015\n",
      "98 0.00021119340241870693\n",
      "99 0.0002159882623341515\n",
      "100 0.00022141268357970623\n",
      "101 0.0002292513411308466\n",
      "102 0.0002217339316991323\n",
      "103 0.00020463728771314254\n",
      "104 0.00021363358843381566\n",
      "105 0.00021539966212223732\n",
      "106 0.00022116301610518505\n",
      "107 0.00022790702575279233\n",
      "108 0.00023667927068272152\n",
      "109 0.0002485522822276727\n",
      "110 0.0002625734418525105\n",
      "111 0.00026441462822951136\n",
      "112 0.00025312052848275866\n",
      "113 0.0004180826358506486\n",
      "114 0.0003275473575012018\n",
      "115 0.0002659167707086344\n",
      "116 0.0003032836035156216\n",
      "117 0.0003201217489519354\n",
      "118 0.0003474074025105494\n",
      "119 0.0003764698540778035\n",
      "120 0.00040722627013510293\n",
      "121 0.0004422404354513799\n",
      "122 0.0004730371373093566\n",
      "123 0.0004986980879926782\n",
      "124 0.0004973853668150358\n",
      "125 0.0004787037243031787\n",
      "126 0.00042939356837542835\n",
      "127 0.0004360965806114694\n",
      "128 0.00041342975936016274\n",
      "129 0.00046793298078151466\n",
      "130 0.0005408323091093302\n",
      "131 0.0005525359013052076\n",
      "132 0.0005725952974217764\n",
      "133 0.0006035382120399041\n",
      "134 0.0005788136092953454\n",
      "135 0.0005388618600030378\n",
      "136 0.0004299956735326766\n",
      "137 0.0004041392426033024\n",
      "138 0.00040715111753621656\n",
      "139 0.00042530971853863264\n",
      "140 0.00044451932786884757\n",
      "141 0.0004282182730266772\n",
      "142 0.0003746346332568239\n",
      "143 0.0003632011720936398\n",
      "144 0.00032949329273182997\n",
      "145 0.00031017481461355486\n",
      "146 0.00028934827569567645\n",
      "147 0.0002770410067013487\n",
      "148 0.0002493731956779911\n",
      "149 0.00025508050942939356\n",
      "150 0.00025202171344640065\n",
      "151 0.00024792300600730706\n",
      "152 0.00024307594955050088\n",
      "153 0.00023646827595909505\n",
      "154 0.00022360535638292725\n",
      "155 0.00019538466388429972\n",
      "156 0.00019833469027274875\n",
      "157 0.00019465545193297646\n",
      "158 0.00019606576958086373\n",
      "159 0.00019774112174860813\n",
      "160 0.00019956097552945154\n",
      "161 0.00020209572586036762\n",
      "162 0.00019647831780303284\n",
      "163 0.00017510270698109653\n",
      "164 0.00017605844465581265\n",
      "165 0.00016691518155181743\n",
      "166 0.00016205711783366146\n",
      "167 0.00015629734457560824\n",
      "168 0.0001553337549744308\n",
      "169 0.0001489841904123564\n",
      "170 0.00013329431862803086\n",
      "171 0.00013609449047944044\n",
      "172 0.00013165565208034756\n",
      "173 0.00013011410882516293\n",
      "174 0.0001268239309195773\n",
      "175 0.0001262842196839391\n",
      "176 0.00012607783580637083\n",
      "177 0.00012203717206631295\n",
      "178 0.00010874240489086843\n",
      "179 0.00011306651974162098\n",
      "180 0.00011220349603675496\n",
      "181 0.00011289801649445363\n",
      "182 0.00011324140788685043\n",
      "183 0.00011381892657028067\n",
      "184 0.00011014284899344909\n",
      "185 9.860337731081984e-05\n",
      "done in  185  iterations 9.860337731081984e-05\n"
     ]
    }
   ],
   "source": [
    "solver.solve(eps=1e-4)"
   ]
  },
  {
   "cell_type": "code",
   "execution_count": 23,
   "metadata": {},
   "outputs": [],
   "source": [
    "sol = solver.solution"
   ]
  },
  {
   "cell_type": "code",
   "execution_count": 24,
   "metadata": {},
   "outputs": [],
   "source": [
    "traversal, distances = tsp(args['points'])"
   ]
  },
  {
   "cell_type": "code",
   "execution_count": 25,
   "metadata": {},
   "outputs": [
    {
     "data": {
      "text/plain": [
       "array([[-0.0012454 ,  0.        , -0.00623514],\n",
       "       [ 0.00131869,  0.02030674,  0.00604418]])"
      ]
     },
     "execution_count": 25,
     "metadata": {},
     "output_type": "execute_result"
    }
   ],
   "source": [
    "mesh.bounds*0.01"
   ]
  },
  {
   "cell_type": "code",
   "execution_count": 26,
   "metadata": {},
   "outputs": [],
   "source": [
    "X = sol['X']\n",
    "\n",
    "ps.init()\n",
    "\n",
    "ps_bunny_mesh = ps.register_surface_mesh(\"bunny\", mesh.vertices, mesh.faces)\n",
    "# ps_bunny_mesh.set_transparency(0.8)\n",
    "# ps_bunny_mesh.add_scalar_quantity('info_distr', mesh_func.func_vals, defined_on='vertices', cmap='blues')\n",
    "ps_bunny_pcl = ps.register_point_cloud(\"bunny points\", args['points'])\n",
    "\n",
    "ps_traj         = ps.register_curve_network(\"trajectory\", X , edges=\"line\")\n",
    "\n",
    "ps_tsp_traj         = ps.register_curve_network(\"tsp_traj\", args['points'][traversal], edges=\"line\")\n",
    "\n",
    "ps.show()"
   ]
  },
  {
   "cell_type": "code",
   "execution_count": 20,
   "metadata": {},
   "outputs": [
    {
     "data": {
      "text/plain": [
       "array([[-0.12454 ,  0.      , -0.623514],\n",
       "       [ 0.131869,  2.030674,  0.604418]])"
      ]
     },
     "execution_count": 20,
     "metadata": {},
     "output_type": "execute_result"
    }
   ],
   "source": [
    "mesh.bounds"
   ]
  },
  {
   "cell_type": "code",
   "execution_count": null,
   "metadata": {},
   "outputs": [],
   "source": []
  }
 ],
 "metadata": {
  "kernelspec": {
   "display_name": "base",
   "language": "python",
   "name": "python3"
  },
  "language_info": {
   "codemirror_mode": {
    "name": "ipython",
    "version": 3
   },
   "file_extension": ".py",
   "mimetype": "text/x-python",
   "name": "python",
   "nbconvert_exporter": "python",
   "pygments_lexer": "ipython3",
   "version": "3.10.14"
  }
 },
 "nbformat": 4,
 "nbformat_minor": 2
}
