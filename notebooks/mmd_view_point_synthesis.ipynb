{
 "cells": [
  {
   "cell_type": "code",
   "execution_count": 1,
   "metadata": {},
   "outputs": [
    {
     "name": "stderr",
     "output_type": "stream",
     "text": [
      "objc[17123]: Class GLFWWindowDelegate is implemented in both /Users/ia285/miniconda3/lib/python3.10/site-packages/polyscope_bindings.cpython-310-darwin.so (0x1366bee90) and /Users/ia285/miniconda3/lib/python3.10/site-packages/open3d/cpu/pybind.cpython-310-darwin.so (0x16a286db0). One of the two will be used. Which one is undefined.\n",
      "objc[17123]: Class GLFWApplicationDelegate is implemented in both /Users/ia285/miniconda3/lib/python3.10/site-packages/polyscope_bindings.cpython-310-darwin.so (0x1366bee68) and /Users/ia285/miniconda3/lib/python3.10/site-packages/open3d/cpu/pybind.cpython-310-darwin.so (0x16a286e28). One of the two will be used. Which one is undefined.\n",
      "objc[17123]: Class GLFWContentView is implemented in both /Users/ia285/miniconda3/lib/python3.10/site-packages/polyscope_bindings.cpython-310-darwin.so (0x1366beee0) and /Users/ia285/miniconda3/lib/python3.10/site-packages/open3d/cpu/pybind.cpython-310-darwin.so (0x16a286e50). One of the two will be used. Which one is undefined.\n",
      "objc[17123]: Class GLFWWindow is implemented in both /Users/ia285/miniconda3/lib/python3.10/site-packages/polyscope_bindings.cpython-310-darwin.so (0x1366bef58) and /Users/ia285/miniconda3/lib/python3.10/site-packages/open3d/cpu/pybind.cpython-310-darwin.so (0x16a286ec8). One of the two will be used. Which one is undefined.\n"
     ]
    }
   ],
   "source": [
    "from plyfile import PlyData\n",
    "import jax \n",
    "import jax.numpy as jnp \n",
    "from jax import grad, jacfwd, vmap, jit\n",
    "import polyscope as ps\n",
    "\n",
    "from jaxlie import SO3, SE3\n",
    "from jax.flatten_util import ravel_pytree\n",
    "\n",
    "import numpy as np\n",
    "import open3d as o3d \n",
    "import trimesh as tm\n",
    "\n",
    "import meshcat\n",
    "from meshcat import Visualizer\n",
    "import meshcat.geometry as mc_geom\n",
    "import meshcat.transformations as mc_trans\n",
    "\n",
    "from kernel import create_kernel_matrix, RBF\n",
    "import jaxopt\n",
    "\n",
    "import time"
   ]
  },
  {
   "cell_type": "code",
   "execution_count": 2,
   "metadata": {},
   "outputs": [],
   "source": [
    "dataset = o3d.data.BunnyMesh()\n",
    "plydata = PlyData.read(dataset.path)\n",
    "vertices = np.vstack((\n",
    "    plydata['vertex']['x'],\n",
    "    plydata['vertex']['y'],\n",
    "    plydata['vertex']['z']\n",
    ")).T\n",
    "\n",
    "# _min_pnt = vertices.min(axis=0)\n",
    "# _max_pnt = vertices.max(axis=0)\n",
    "# _mid_pnt = vertices.mean(axis=0)\n",
    "# vertices = (vertices - _mid_pnt)/(_max_pnt-_min_pnt)\n",
    "\n",
    "faces = np.array(np.vstack(plydata['face']['vertex_indices']))\n",
    "\n",
    "mesh = tm.Trimesh(vertices=vertices, faces=faces)\n",
    "\n",
    "ds_mesh = mesh.simplify_quadric_decimation(int(mesh.vertices.shape[0]/10))"
   ]
  },
  {
   "cell_type": "code",
   "execution_count": null,
   "metadata": {},
   "outputs": [],
   "source": [
    "# ps.init()\n",
    "\n",
    "# ps_mesh = ps.register_surface_mesh(\"my mesh\", ds_mesh.vertices, ds_mesh.faces)\n",
    "# ps_mesh.add_vector_quantity(\"rand vecs\", ds_mesh.vertex_normals, enabled=True)\n",
    "\n",
    "\n",
    "# ps.show()"
   ]
  },
  {
   "cell_type": "code",
   "execution_count": 119,
   "metadata": {},
   "outputs": [],
   "source": [
    "XP = jnp.hstack([-ds_mesh.vertex_normals, ds_mesh.vertices + ds_mesh.vertex_normals*0.1])\n",
    "X  = jnp.zeros((100,6))"
   ]
  },
  {
   "cell_type": "code",
   "execution_count": 129,
   "metadata": {},
   "outputs": [],
   "source": [
    "X_samples = ds_mesh.vertices+ds_mesh.vertex_normals*0.05\n",
    "P_XI      = jnp.ones(X_samples.shape[0])\n",
    "P_XI = P_XI/np.sum(P_XI)\n",
    "h = 0.1\n",
    "args = {'h' : h, 'vertices' : ds_mesh.vertices, 'normals' : ds_mesh.vertex_normals}"
   ]
  },
  {
   "cell_type": "code",
   "execution_count": 140,
   "metadata": {},
   "outputs": [],
   "source": [
    "v1 = np.array([0., 0., 1.])\n",
    "def phi(x, xp, h=0.01):\n",
    "    w, v        = jnp.split(x,2)\n",
    "    norm, root  = jnp.split(xp, 2)\n",
    "    _R = SO3.exp(w)\n",
    "    return jnp.exp(\n",
    "        -(jnp.sum((norm+_R@v1)**2)+ np.sum((norm+root-v)**2))/h\n",
    "    )\n",
    "\n",
    "def RBF(x, xp, h=0.01):\n",
    "    w, v        = jnp.split(x,2)\n",
    "    norm, root  = jnp.split(xp, 2)\n",
    "    return jnp.exp(\n",
    "        -jnp.sum((root-v)**2)/h\n",
    "    ) * jnp.exp(\n",
    "        -0.01*jnp.sum((norm-w)**2)/h\n",
    "    )\n",
    "    # return jnp.exp(\n",
    "    #     -jnp.sum((x-xp)**2)/h\n",
    "    # )"
   ]
  },
  {
   "cell_type": "code",
   "execution_count": 141,
   "metadata": {},
   "outputs": [],
   "source": [
    "phi_vmapped = vmap(vmap(phi, in_axes=(0,None,None)),in_axes=(None,0,None))"
   ]
  },
  {
   "cell_type": "code",
   "execution_count": 142,
   "metadata": {},
   "outputs": [],
   "source": [
    "KernelMatrix = create_kernel_matrix(RBF)\n",
    "\n",
    "x0 =  X_samples.min(axis=0)\n",
    "xf =  X_samples.max(axis=0)\n",
    "T = 100\n",
    "X_init = np.linspace(x0, xf, num=T, endpoint=True)\n",
    "V_init = np.linspace(x0, xf, num=T, endpoint=True)\n",
    "\n",
    "X = jnp.hstack([V_init, X_init])\n",
    "\n",
    "sol, unflatten_X = ravel_pytree(X)\n",
    "bounds = (-np.inf * np.ones_like(sol), np.inf * np.ones_like(sol))\n",
    "\n",
    "def ergodic_mmd(flat_X, args):\n",
    "    X_init = unflatten_X(flat_X)\n",
    "    w, v        = jnp.split(X_init,2, axis=1)\n",
    "\n",
    "    T = X_init.shape[0]\n",
    "    h = args['h']\n",
    "    # x0 = args['x0']\n",
    "    # vertices = args['vertices']\n",
    "    # norms    = args['normals']\n",
    "    # XP = jnp.hstack([norms, vertices])\n",
    "    # P_XI      = jnp.sum(phi_vmapped(X_init, XP, h), axis=1)\n",
    "    return np.sum(KernelMatrix(X_init, X_init, h))/(T**2) \\\n",
    "            - 2 * np.sum(P_XI @ KernelMatrix(X_init, XP, h))/T \\\n",
    "            + np.mean((v[1:]-v[:-1])**2)\n",
    "            # + np.sum((X_init[0]-x0)**2)\n",
    "\n",
    "solver = jaxopt.ProjectedGradient(fun=ergodic_mmd, projection=jaxopt.projection.projection_box, tol=1e-6)\n",
    "solver_state = solver.init_state(sol, hyperparams_proj=bounds)\n",
    "# sol = solver.run(init_params=sol, \n",
    "#                         hyperparams_proj=bounds,  \n",
    "#                         args=args).params\n",
    "\n",
    "X = unflatten_X(sol)"
   ]
  },
  {
   "cell_type": "code",
   "execution_count": 144,
   "metadata": {},
   "outputs": [
    {
     "ename": "KeyboardInterrupt",
     "evalue": "",
     "output_type": "error",
     "traceback": [
      "\u001b[0;31m---------------------------------------------------------------------------\u001b[0m",
      "\u001b[0;31mKeyboardInterrupt\u001b[0m                         Traceback (most recent call last)",
      "Cell \u001b[0;32mIn[144], line 16\u001b[0m\n\u001b[1;32m     14\u001b[0m ps_traj\u001b[38;5;241m.\u001b[39mupdate_node_positions(X[:,\u001b[38;5;241m3\u001b[39m:])\n\u001b[1;32m     15\u001b[0m ps_traj\u001b[38;5;241m.\u001b[39madd_vector_quantity(\u001b[38;5;124m\"\u001b[39m\u001b[38;5;124mvec img\u001b[39m\u001b[38;5;124m\"\u001b[39m, X[:,:\u001b[38;5;241m3\u001b[39m])\n\u001b[0;32m---> 16\u001b[0m \u001b[43mps\u001b[49m\u001b[38;5;241;43m.\u001b[39;49m\u001b[43mframe_tick\u001b[49m\u001b[43m(\u001b[49m\u001b[43m)\u001b[49m\n\u001b[1;32m     18\u001b[0m time\u001b[38;5;241m.\u001b[39msleep(\u001b[38;5;241m0.001\u001b[39m)\n",
      "File \u001b[0;32m~/miniconda3/lib/python3.10/site-packages/polyscope/core.py:38\u001b[0m, in \u001b[0;36mframe_tick\u001b[0;34m()\u001b[0m\n\u001b[1;32m     37\u001b[0m \u001b[38;5;28;01mdef\u001b[39;00m \u001b[38;5;21mframe_tick\u001b[39m():\n\u001b[0;32m---> 38\u001b[0m     \u001b[43mpsb\u001b[49m\u001b[38;5;241;43m.\u001b[39;49m\u001b[43mframe_tick\u001b[49m\u001b[43m(\u001b[49m\u001b[43m)\u001b[49m\n",
      "\u001b[0;31mKeyboardInterrupt\u001b[0m: "
     ]
    }
   ],
   "source": [
    "ps.init()\n",
    "\n",
    "ps_bunny_mesh = ps.register_surface_mesh(\"bunny\", ds_mesh.vertices, ds_mesh.faces)\n",
    "ps_bunny_mesh.set_transparency(0.8)\n",
    "ps_traj         = ps.register_curve_network(\"trajectory\", X_init * 1.25, edges=\"line\")\n",
    "\n",
    "for _ in range(1000):\n",
    "    (sol, solver_state) = solver.update(\n",
    "                        params=sol, \n",
    "                        state=solver_state, \n",
    "                        hyperparams_proj=bounds, \n",
    "                                args=args)\n",
    "    X = unflatten_X(sol)\n",
    "    ps_traj.update_node_positions(X[:,3:])\n",
    "    ps_traj.add_vector_quantity(\"vec img\", X[:,:3])\n",
    "    ps.frame_tick()\n",
    "\n",
    "    time.sleep(0.001)"
   ]
  },
  {
   "cell_type": "code",
   "execution_count": 109,
   "metadata": {},
   "outputs": [],
   "source": []
  },
  {
   "cell_type": "code",
   "execution_count": 23,
   "metadata": {},
   "outputs": [
    {
     "ename": "KeyboardInterrupt",
     "evalue": "",
     "output_type": "error",
     "traceback": [
      "\u001b[0;31m---------------------------------------------------------------------------\u001b[0m",
      "\u001b[0;31mKeyboardInterrupt\u001b[0m                         Traceback (most recent call last)",
      "Cell \u001b[0;32mIn[23], line 9\u001b[0m\n\u001b[1;32m      5\u001b[0m \u001b[38;5;66;03m# ps_bunny_mesh.add_scalar_quantity('info_distr', mesh_func.func_vals, defined_on='vertices', cmap='blues')\u001b[39;00m\n\u001b[1;32m      7\u001b[0m ps_traj         \u001b[38;5;241m=\u001b[39m ps\u001b[38;5;241m.\u001b[39mregister_curve_network(\u001b[38;5;124m\"\u001b[39m\u001b[38;5;124mtrajectory\u001b[39m\u001b[38;5;124m\"\u001b[39m, X \u001b[38;5;241m*\u001b[39m \u001b[38;5;241m1.25\u001b[39m, edges\u001b[38;5;241m=\u001b[39m\u001b[38;5;124m\"\u001b[39m\u001b[38;5;124mline\u001b[39m\u001b[38;5;124m\"\u001b[39m)\n\u001b[0;32m----> 9\u001b[0m \u001b[43mps\u001b[49m\u001b[38;5;241;43m.\u001b[39;49m\u001b[43mshow\u001b[49m\u001b[43m(\u001b[49m\u001b[43m)\u001b[49m\n",
      "File \u001b[0;32m~/miniconda3/lib/python3.10/site-packages/polyscope/core.py:24\u001b[0m, in \u001b[0;36mshow\u001b[0;34m(forFrames)\u001b[0m\n\u001b[1;32m     22\u001b[0m \u001b[38;5;250m\u001b[39m\u001b[38;5;124;03m\"\"\"Show the Polyscope GUI (blocks until UI is exited)\"\"\"\u001b[39;00m\n\u001b[1;32m     23\u001b[0m \u001b[38;5;28;01mif\u001b[39;00m forFrames \u001b[38;5;129;01mis\u001b[39;00m \u001b[38;5;28;01mNone\u001b[39;00m:\n\u001b[0;32m---> 24\u001b[0m     \u001b[43mpsb\u001b[49m\u001b[38;5;241;43m.\u001b[39;49m\u001b[43mshow\u001b[49m\u001b[43m(\u001b[49m\u001b[43m)\u001b[49m\n\u001b[1;32m     25\u001b[0m \u001b[38;5;28;01melse\u001b[39;00m:\n\u001b[1;32m     26\u001b[0m     psb\u001b[38;5;241m.\u001b[39mshow(forFrames)\n",
      "\u001b[0;31mKeyboardInterrupt\u001b[0m: "
     ]
    }
   ],
   "source": [
    "ps.init()\n",
    "\n",
    "ps_bunny_mesh = ps.register_surface_mesh(\"bunny\", ds_mesh.vertices, ds_mesh.faces)\n",
    "ps_bunny_mesh.set_transparency(0.8)\n",
    "# ps_bunny_mesh.add_scalar_quantity('info_distr', mesh_func.func_vals, defined_on='vertices', cmap='blues')\n",
    "\n",
    "ps_traj         = ps.register_curve_network(\"trajectory\", X * 1.25, edges=\"line\")\n",
    "\n",
    "ps.show()"
   ]
  },
  {
   "cell_type": "code",
   "execution_count": 108,
   "metadata": {},
   "outputs": [
    {
     "data": {
      "text/plain": [
       "Array([[-1.2171284 , -1.1115862 , -1.1009053 ],\n",
       "       [-1.2152026 , -0.95313704, -0.7008316 ],\n",
       "       [-0.95265466, -0.7279403 , -1.0201361 ],\n",
       "       [-0.42642927, -0.5275799 , -0.7298151 ],\n",
       "       [-1.0408267 , -0.7709126 , -0.4051031 ],\n",
       "       [-0.74579436, -0.26336494, -0.6057465 ],\n",
       "       [-0.44910622, -0.7464509 , -0.4842489 ],\n",
       "       [-0.57261825, -0.31917834, -0.75050336],\n",
       "       [-0.8659484 , -0.31514153, -0.37906358],\n",
       "       [-0.57987833, -0.8105865 , -0.03539886],\n",
       "       [-0.9161823 , -0.09556733, -0.38340583],\n",
       "       [-0.70823085, -0.6259475 , -0.31731534],\n",
       "       [-0.49622777, -0.83794636, -0.21826875],\n",
       "       [ 0.14867975, -0.31548867, -0.9335648 ],\n",
       "       [-0.95671546, -0.18534584, -0.21623643],\n",
       "       [-0.5573607 , -0.16308616, -0.339997  ],\n",
       "       [-0.41934413, -0.0366478 , -0.9036501 ],\n",
       "       [-0.30767146, -0.2785412 , -0.10740983],\n",
       "       [-0.69494236, -0.67872554,  0.22421643],\n",
       "       [ 0.21281777, -0.1129107 , -0.9673629 ],\n",
       "       [-0.9792235 ,  0.00802065, -0.1873807 ],\n",
       "       [ 0.01497911, -0.99695575,  0.05002837],\n",
       "       [-0.33991876,  0.13420466, -0.9280466 ],\n",
       "       [-0.06394695, -0.54932517, -0.13026653],\n",
       "       [-0.2789347 , -0.24457787, -0.59644586],\n",
       "       [-0.40749505,  0.1058678 , -0.54120237],\n",
       "       [-0.9179693 , -0.3798261 , -0.07838224],\n",
       "       [-0.01030598, -0.23843811, -0.31965497],\n",
       "       [-0.6712646 ,  0.30774716, -0.6684615 ],\n",
       "       [ 0.3150669 , -0.8992533 , -0.29263267],\n",
       "       [-0.6262151 , -0.1368895 ,  0.03271922],\n",
       "       [ 0.2103818 , -0.22781417, -0.62731045],\n",
       "       [-0.56332517,  0.3563365 , -0.2371362 ],\n",
       "       [-0.41283327, -0.4254115 ,  0.32952493],\n",
       "       [-0.00351856, -0.99919593, -0.00888001],\n",
       "       [-0.03270311,  0.3882245 , -0.9180333 ],\n",
       "       [-0.9777564 ,  0.14971918,  0.12414256],\n",
       "       [ 0.31448746, -0.44330615, -0.33082733],\n",
       "       [-0.34120756,  0.08387177, -0.09014115],\n",
       "       [-0.02107707,  0.05512884, -0.53626496],\n",
       "       [-0.07419616, -0.35121998,  0.16928627],\n",
       "       [ 0.05307407,  0.54345787, -0.8339584 ],\n",
       "       [-0.31790653, -0.07890835,  0.23760733],\n",
       "       [ 0.2721303 , -0.56211656,  0.17693037],\n",
       "       [-0.67131805,  0.5961265 , -0.43397108],\n",
       "       [-0.17875178,  0.30157796, -0.32093033],\n",
       "       [-0.18046235, -0.2199979 ,  0.55397475],\n",
       "       [ 0.00939946, -0.00365705, -0.02483845],\n",
       "       [ 0.3090467 , -0.09723981, -0.20917568],\n",
       "       [ 0.18288858,  0.30639672, -0.36507663],\n",
       "       [-0.4899407 ,  0.45199433,  0.1229478 ],\n",
       "       [-0.02737305,  0.091092  , -0.99191767],\n",
       "       [ 0.03258038, -0.04518975,  0.33619463],\n",
       "       [-0.15390922,  0.58811563, -0.10654785],\n",
       "       [ 0.09812072, -0.46829402,  0.49981147],\n",
       "       [ 0.30931973, -0.19811605,  0.14887957],\n",
       "       [-0.3621719 ,  0.24302186,  0.40491408],\n",
       "       [-0.45962578,  0.84105694, -0.27604324],\n",
       "       [-0.10940688,  0.46154952,  0.22961596],\n",
       "       [-0.08941074,  0.6681535 , -0.73448455],\n",
       "       [ 0.01376113,  0.27497983,  0.5162572 ],\n",
       "       [ 0.66894096, -0.24245742, -0.0103003 ],\n",
       "       [ 0.5546322 , -0.3434878 ,  0.6771651 ],\n",
       "       [-0.1173096 ,  0.9867702 , -0.06676929],\n",
       "       [ 0.2079915 ,  0.476792  , -0.04230156],\n",
       "       [ 0.5179214 ,  0.1870646 , -0.28100047],\n",
       "       [ 0.01403579,  0.17010078,  0.9814487 ],\n",
       "       [ 0.70567584, -0.03232155,  0.70395505],\n",
       "       [ 0.3340393 ,  0.1292868 ,  0.2950574 ],\n",
       "       [-0.23277268,  0.9614338 ,  0.12690479],\n",
       "       [-0.18370079,  0.8422449 ,  0.5001215 ],\n",
       "       [ 0.5519945 ,  0.3200631 ,  0.05493386],\n",
       "       [ 0.82493216,  0.42887735, -0.35893926],\n",
       "       [ 0.26561028,  0.00642481,  0.96029603],\n",
       "       [ 0.51401174, -0.16056396,  0.83903366],\n",
       "       [ 0.26155728,  0.95238364, -0.13934465],\n",
       "       [ 0.11495068,  0.963154  ,  0.23108387],\n",
       "       [ 0.08435394,  0.7568566 ,  0.6438677 ],\n",
       "       [ 0.3272026 ,  0.47968525,  0.3128111 ],\n",
       "       [ 0.9688267 ,  0.1713023 ,  0.15845077],\n",
       "       [ 0.80431396,  0.16563538,  0.5667567 ],\n",
       "       [ 0.0820387 ,  0.57459927,  0.8112576 ],\n",
       "       [ 0.30327648,  0.94718224,  0.07788683],\n",
       "       [ 0.7526863 ,  0.61514974,  0.21704914],\n",
       "       [ 0.18761168,  0.4334388 ,  0.87846684],\n",
       "       [ 0.679953  ,  0.31391966,  0.65818083],\n",
       "       [ 0.81958395,  0.33828375,  0.45739025],\n",
       "       [ 0.35830194,  0.8414205 ,  0.39912444],\n",
       "       [ 0.548872  ,  0.72275954,  0.41583243],\n",
       "       [-0.07135286,  0.6713955 ,  0.73436815],\n",
       "       [ 0.55544674,  0.79807717,  0.22476687],\n",
       "       [ 0.4759913 ,  0.4636658 ,  0.74266917],\n",
       "       [ 0.5804638 ,  0.11327295,  0.8023127 ],\n",
       "       [ 0.48223326,  1.1612769 ,  0.5076602 ],\n",
       "       [ 0.87373936,  0.41358948,  0.24431111],\n",
       "       [ 0.5514345 ,  0.80698365,  0.85664505],\n",
       "       [ 0.96946144,  0.9616871 ,  0.4463482 ],\n",
       "       [ 0.7436601 ,  1.2062058 ,  0.77912104],\n",
       "       [ 1.0984026 ,  1.0032544 ,  0.9950035 ],\n",
       "       [ 1.252113  ,  1.3654196 ,  1.0744272 ]], dtype=float32)"
      ]
     },
     "execution_count": 108,
     "metadata": {},
     "output_type": "execute_result"
    }
   ],
   "source": [
    "X[:,:3]"
   ]
  },
  {
   "cell_type": "code",
   "execution_count": 22,
   "metadata": {},
   "outputs": [],
   "source": [
    "def lie_RBF(x, xp, h=0.01):\n",
    "    w, v        = jnp.split(x,2)\n",
    "    norm, root  = jnp.split(xp, 2)\n",
    "    _R = SO3.exp(w)\n",
    "    return jnp.exp(\n",
    "        -(jnp.sum((norm+_R@v1)**2) + np.sum((norm+root-v)**2))/h\n",
    "    )\n",
    "\n",
    "def create_kernel_matrix(kernel):\n",
    "    return vmap(vmap(kernel, in_axes=(0, None, None)), in_axes=(None, 0, None))"
   ]
  },
  {
   "cell_type": "code",
   "execution_count": null,
   "metadata": {},
   "outputs": [],
   "source": []
  }
 ],
 "metadata": {
  "kernelspec": {
   "display_name": "base",
   "language": "python",
   "name": "python3"
  },
  "language_info": {
   "codemirror_mode": {
    "name": "ipython",
    "version": 3
   },
   "file_extension": ".py",
   "mimetype": "text/x-python",
   "name": "python",
   "nbconvert_exporter": "python",
   "pygments_lexer": "ipython3",
   "version": "3.10.2"
  }
 },
 "nbformat": 4,
 "nbformat_minor": 2
}
