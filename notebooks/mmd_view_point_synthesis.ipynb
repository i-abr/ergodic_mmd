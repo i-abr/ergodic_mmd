{
 "cells": [
  {
   "cell_type": "code",
   "execution_count": 1,
   "metadata": {},
   "outputs": [
    {
     "name": "stderr",
     "output_type": "stream",
     "text": [
      "objc[35288]: Class GLFWWindowDelegate is implemented in both /Users/ia285/miniconda3/lib/python3.10/site-packages/polyscope_bindings.cpython-310-darwin.so (0x14ba96e90) and /Users/ia285/miniconda3/lib/python3.10/site-packages/open3d/cpu/pybind.cpython-310-darwin.so (0x167df6db0). One of the two will be used. Which one is undefined.\n",
      "objc[35288]: Class GLFWApplicationDelegate is implemented in both /Users/ia285/miniconda3/lib/python3.10/site-packages/polyscope_bindings.cpython-310-darwin.so (0x14ba96e68) and /Users/ia285/miniconda3/lib/python3.10/site-packages/open3d/cpu/pybind.cpython-310-darwin.so (0x167df6e28). One of the two will be used. Which one is undefined.\n",
      "objc[35288]: Class GLFWContentView is implemented in both /Users/ia285/miniconda3/lib/python3.10/site-packages/polyscope_bindings.cpython-310-darwin.so (0x14ba96ee0) and /Users/ia285/miniconda3/lib/python3.10/site-packages/open3d/cpu/pybind.cpython-310-darwin.so (0x167df6e50). One of the two will be used. Which one is undefined.\n",
      "objc[35288]: Class GLFWWindow is implemented in both /Users/ia285/miniconda3/lib/python3.10/site-packages/polyscope_bindings.cpython-310-darwin.so (0x14ba96f58) and /Users/ia285/miniconda3/lib/python3.10/site-packages/open3d/cpu/pybind.cpython-310-darwin.so (0x167df6ec8). One of the two will be used. Which one is undefined.\n"
     ]
    }
   ],
   "source": [
    "from plyfile import PlyData\n",
    "import jax \n",
    "import jax.numpy as jnp \n",
    "from jax import grad, jacfwd, vmap, jit\n",
    "import polyscope as ps\n",
    "\n",
    "from jaxlie import SO3, SE3\n",
    "from jax.flatten_util import ravel_pytree\n",
    "\n",
    "import numpy as np\n",
    "import open3d as o3d \n",
    "import trimesh as tm\n",
    "\n",
    "import meshcat\n",
    "from meshcat import Visualizer\n",
    "import meshcat.geometry as mc_geom\n",
    "import meshcat.transformations as mc_trans\n",
    "\n",
    "from kernel import create_kernel_matrix, RBF\n",
    "import jaxopt\n",
    "\n",
    "import time"
   ]
  },
  {
   "cell_type": "code",
   "execution_count": 3,
   "metadata": {},
   "outputs": [],
   "source": [
    "# dataset = o3d.data.BunnyMesh()\n",
    "# plydata = PlyData.read(dataset.path)\n",
    "# plydata = PlyData.read('../assets/sphere.ply')\n",
    "plydata = PlyData.read('../assets/submarine.ply')\n",
    "vertices = np.vstack((\n",
    "    plydata['vertex']['x'],\n",
    "    plydata['vertex']['y'],\n",
    "    plydata['vertex']['z']\n",
    ")).T\n",
    "\n",
    "# _min_pnt = vertices.min(axis=0)\n",
    "_max_pnt = vertices.max()\n",
    "# _mid_pnt = vertices.mean(axis=0)\n",
    "vertices = vertices/_max_pnt\n",
    "\n",
    "# vertices = (vertices - _mid_pnt)/(_max_pnt-_min_pnt)\n",
    "\n",
    "faces = np.array(np.vstack(plydata['face']['vertex_indices']))\n",
    "\n",
    "mesh = tm.Trimesh(vertices=vertices, faces=faces)\n",
    "\n",
    "# ds_mesh = mesh\n",
    "ds_mesh = mesh.simplify_quadric_decimation(int(mesh.vertices.shape[0]/10))\n",
    "\n",
    "\n",
    "# ds_mesh = tm.primitives.Box()\n",
    "# ds_mesh = ds_mesh.convex_hull\n",
    "\n",
    "num_points = 1000  # Change this number based on your requirement\n",
    "points, face_indices = tm.sample.sample_surface(ds_mesh, num_points)\n",
    "\n",
    "# Get the normals for each sampled point\n",
    "normals = ds_mesh.face_normals[face_indices]"
   ]
  },
  {
   "cell_type": "code",
   "execution_count": 4,
   "metadata": {},
   "outputs": [
    {
     "name": "stderr",
     "output_type": "stream",
     "text": [
      "WARNING: All log messages before absl::InitializeLog() is called are written to STDERR\n",
      "I0000 00:00:1723583369.499610       1 tfrt_cpu_pjrt_client.cc:349] TfrtCpuClient created.\n"
     ]
    }
   ],
   "source": [
    "# XP = jnp.hstack([-ds_mesh.vertex_normals, ds_mesh.vertices + ds_mesh.vertex_normals*0.2])\n",
    "XP = jnp.hstack([-normals, points + normals*0.2])\n",
    "\n",
    "X  = jnp.zeros((100,6))"
   ]
  },
  {
   "cell_type": "code",
   "execution_count": 5,
   "metadata": {},
   "outputs": [],
   "source": [
    "X_samples =  points + normals*0.2\n",
    "P_XI      = jnp.ones(X_samples.shape[0])\n",
    "P_XI = P_XI/np.sum(P_XI)\n",
    "h = 0.1\n",
    "args = {'h' : h, 'vertices' : ds_mesh.vertices, 'normals' : ds_mesh.vertex_normals}"
   ]
  },
  {
   "cell_type": "code",
   "execution_count": 6,
   "metadata": {},
   "outputs": [],
   "source": [
    "# v1 = np.array([0., 0., 1.])\n",
    "# def phi(x, xp, h=0.01):\n",
    "#     w, v        = jnp.split(x,2)\n",
    "#     norm, root  = jnp.split(xp, 2)\n",
    "#     _R = SO3.exp(w)\n",
    "#     return jnp.exp(\n",
    "#         -(jnp.sum((norm+_R@v1)**2)+ np.sum((norm+root-v)**2))/h\n",
    "#     )\n",
    "\n",
    "def RBF(x, xp, h=0.01):\n",
    "    w, v        = jnp.split(x,2)\n",
    "    norm, root  = jnp.split(xp, 2)\n",
    "    return jnp.exp(\n",
    "        -jnp.sum((root-v)**2)/h #- *jnp.sum((norm-w)**2)/h\n",
    "    ) \n",
    "    # * jnp.exp(\n",
    "    #     -1e-3*jnp.sum((norm-w)**2)/h\n",
    "    # )\n",
    "    # return jnp.exp(\n",
    "    #     -jnp.sum((x-xp)**2)/h\n",
    "    # )\n",
    "def camera_view_penalty(x, xp, h=0.01):\n",
    "    w, v        = jnp.split(x,2)\n",
    "    norm, root  = jnp.split(xp, 2)\n",
    "    return jnp.exp(\n",
    "        -jnp.sum((root-v)**2)/h #- 1e-1*jnp.sum((norm-w)**2)\n",
    "    ) * jnp.exp(\n",
    "        -1e-1*jnp.sum((norm-w)**2)\n",
    "    )"
   ]
  },
  {
   "cell_type": "code",
   "execution_count": 7,
   "metadata": {},
   "outputs": [],
   "source": [
    "KernelMatrix = create_kernel_matrix(RBF)\n",
    "\n",
    "camera_view_matrix = create_kernel_matrix(camera_view_penalty)\n",
    "\n",
    "x0 =  X_samples.min(axis=0)\n",
    "xf =  X_samples.max(axis=0)\n",
    "T = 100\n",
    "X_init = np.linspace(x0, xf, num=T, endpoint=True)\n",
    "V_init = np.linspace(x0, xf, num=T, endpoint=True)\n",
    "\n",
    "X = jnp.hstack([V_init, X_init])\n",
    "\n",
    "sol, unflatten_X = ravel_pytree(X)\n",
    "bounds = (-np.inf * np.ones_like(sol), np.inf * np.ones_like(sol))\n",
    "\n",
    "def ergodic_mmd(flat_X, args):\n",
    "    X_init = unflatten_X(flat_X)\n",
    "    w, v        = jnp.split(X_init,2, axis=1)\n",
    "\n",
    "    T = X_init.shape[0]\n",
    "    h = args['h']\n",
    "    view_matrix = camera_view_matrix(X_init, XP, h)\n",
    "    # x0 = args['x0']\n",
    "    # vertices = args['vertices']\n",
    "    # norms    = args['normals']\n",
    "    # XP = jnp.hstack([norms, vertices])\n",
    "    # P_XI      = jnp.sum(phi_vmapped(X_init, XP, h), axis=1)\n",
    "    return np.sum(KernelMatrix(X_init, X_init, h))/(T**2) \\\n",
    "            - 2 * np.sum(P_XI @ KernelMatrix(X_init, XP, h))/T \\\n",
    "            + np.mean((v[1:]-v[:-1])**2) - np.sum(P_XI@view_matrix)/T\n",
    "            # + np.sum((X_init[0]-x0)**2)\n",
    "\n",
    "solver = jaxopt.ProjectedGradient(fun=ergodic_mmd, projection=jaxopt.projection.projection_box, tol=1e-6)\n",
    "solver_state = solver.init_state(sol, hyperparams_proj=bounds)\n",
    "# sol = solver.run(init_params=sol, \n",
    "#                         hyperparams_proj=bounds,  \n",
    "#                         args=args).params\n",
    "\n",
    "X = unflatten_X(sol)"
   ]
  },
  {
   "cell_type": "code",
   "execution_count": 8,
   "metadata": {},
   "outputs": [
    {
     "name": "stdout",
     "output_type": "stream",
     "text": [
      "[polyscope] Backend: openGL3_glfw -- Loaded openGL version: 4.1 Metal - 88\n"
     ]
    }
   ],
   "source": [
    "ps.init()\n",
    "\n",
    "ps_bunny_mesh = ps.register_surface_mesh(\"bunny\", ds_mesh.vertices, ds_mesh.faces)\n",
    "ps_bunny_pcl = ps.register_point_cloud(\"bunny points\", points+normals*0.2)\n",
    "\n",
    "\n",
    "ps_bunny_mesh.set_transparency(0.8)\n",
    "ps_traj         = ps.register_curve_network(\"trajectory\", X_init * 1.25, edges=\"line\")\n",
    "\n",
    "for _ in range(1000):\n",
    "    (sol, solver_state) = solver.update(\n",
    "                        params=sol, \n",
    "                        state=solver_state, \n",
    "                        hyperparams_proj=bounds, \n",
    "                                args=args)\n",
    "    X = unflatten_X(sol)\n",
    "    ps_traj.update_node_positions(X[:,3:])\n",
    "    ps_traj.add_vector_quantity(\"vec img\", X[:,:3], enabled=True)\n",
    "    ps.frame_tick()\n",
    "\n",
    "    time.sleep(0.001)"
   ]
  },
  {
   "cell_type": "code",
   "execution_count": 8,
   "metadata": {},
   "outputs": [
    {
     "ename": "KeyboardInterrupt",
     "evalue": "",
     "output_type": "error",
     "traceback": [
      "\u001b[0;31m---------------------------------------------------------------------------\u001b[0m",
      "\u001b[0;31mKeyboardInterrupt\u001b[0m                         Traceback (most recent call last)",
      "Cell \u001b[0;32mIn[8], line 20\u001b[0m\n\u001b[1;32m     18\u001b[0m     params \u001b[38;5;241m=\u001b[39m ps\u001b[38;5;241m.\u001b[39mCameraParameters(intrinsics, extrinsics)\n\u001b[1;32m     19\u001b[0m     cam \u001b[38;5;241m=\u001b[39m ps\u001b[38;5;241m.\u001b[39mregister_camera_view(\u001b[38;5;124m'\u001b[39m\u001b[38;5;124mcam\u001b[39m\u001b[38;5;132;01m{}\u001b[39;00m\u001b[38;5;124m'\u001b[39m\u001b[38;5;241m.\u001b[39mformat(i), params)\n\u001b[0;32m---> 20\u001b[0m \u001b[43mps\u001b[49m\u001b[38;5;241;43m.\u001b[39;49m\u001b[43mshow\u001b[49m\u001b[43m(\u001b[49m\u001b[43m)\u001b[49m\n",
      "File \u001b[0;32m~/miniconda3/lib/python3.10/site-packages/polyscope/core.py:24\u001b[0m, in \u001b[0;36mshow\u001b[0;34m(forFrames)\u001b[0m\n\u001b[1;32m     22\u001b[0m \u001b[38;5;250m\u001b[39m\u001b[38;5;124;03m\"\"\"Show the Polyscope GUI (blocks until UI is exited)\"\"\"\u001b[39;00m\n\u001b[1;32m     23\u001b[0m \u001b[38;5;28;01mif\u001b[39;00m forFrames \u001b[38;5;129;01mis\u001b[39;00m \u001b[38;5;28;01mNone\u001b[39;00m:\n\u001b[0;32m---> 24\u001b[0m     \u001b[43mpsb\u001b[49m\u001b[38;5;241;43m.\u001b[39;49m\u001b[43mshow\u001b[49m\u001b[43m(\u001b[49m\u001b[43m)\u001b[49m\n\u001b[1;32m     25\u001b[0m \u001b[38;5;28;01melse\u001b[39;00m:\n\u001b[1;32m     26\u001b[0m     psb\u001b[38;5;241m.\u001b[39mshow(forFrames)\n",
      "\u001b[0;31mKeyboardInterrupt\u001b[0m: "
     ]
    }
   ],
   "source": [
    "ps.init()\n",
    "\n",
    "ps_bunny_mesh = ps.register_surface_mesh(\"bunny\", ds_mesh.vertices, ds_mesh.faces)\n",
    "ps_bunny_mesh.set_transparency(0.8)\n",
    "ps_traj         = ps.register_curve_network(\"trajectory\", X_init * 1.25, edges=\"line\")\n",
    "\n",
    "# ps_bunny_mesh.add_scalar_quantity('info_distr', mesh_func.func_vals, defined_on='vertices', cmap='blues')\n",
    "\n",
    "ps_traj.update_node_positions(X[:,3:])\n",
    "ps_traj.add_vector_quantity(\"vec img\", X[:,:3], enabled=True)\n",
    "\n",
    "\n",
    "for i,_xi in enumerate(X): \n",
    "    _dir, _root =  np.split(_xi, 2)\n",
    "    intrinsics = ps.CameraIntrinsics(fov_vertical_deg=60, aspect=2)\n",
    "\n",
    "    extrinsics = ps.CameraExtrinsics(root=np.array(_root), look_dir=np.array(_dir), up_dir=(0.,1.,0.))\n",
    "    params = ps.CameraParameters(intrinsics, extrinsics)\n",
    "    cam = ps.register_camera_view('cam{}'.format(i), params)\n",
    "ps.show()"
   ]
  },
  {
   "cell_type": "code",
   "execution_count": null,
   "metadata": {},
   "outputs": [],
   "source": [
    "def lie_RBF(x, xp, h=0.01):\n",
    "    w, v        = jnp.split(x,2)\n",
    "    norm, root  = jnp.split(xp, 2)\n",
    "    _R = SO3.exp(w)\n",
    "    return jnp.exp(\n",
    "        -(jnp.sum((norm+_R@v1)**2) + np.sum((norm+root-v)**2))/h\n",
    "    )\n",
    "\n",
    "def create_kernel_matrix(kernel):\n",
    "    return vmap(vmap(kernel, in_axes=(0, None, None)), in_axes=(None, 0, None))"
   ]
  },
  {
   "cell_type": "code",
   "execution_count": null,
   "metadata": {},
   "outputs": [],
   "source": []
  }
 ],
 "metadata": {
  "kernelspec": {
   "display_name": "base",
   "language": "python",
   "name": "python3"
  },
  "language_info": {
   "codemirror_mode": {
    "name": "ipython",
    "version": 3
   },
   "file_extension": ".py",
   "mimetype": "text/x-python",
   "name": "python",
   "nbconvert_exporter": "python",
   "pygments_lexer": "ipython3",
   "version": "3.10.2"
  }
 },
 "nbformat": 4,
 "nbformat_minor": 2
}
