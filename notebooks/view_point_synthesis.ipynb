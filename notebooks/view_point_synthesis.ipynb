{
 "cells": [
  {
   "cell_type": "code",
   "execution_count": 1,
   "metadata": {},
   "outputs": [
    {
     "name": "stdout",
     "output_type": "stream",
     "text": [
      "Jupyter environment detected. Enabling Open3D WebVisualizer.\n",
      "[Open3D INFO] WebRTC GUI backend enabled.\n",
      "[Open3D INFO] WebRTCWindowSystem: HTTP handshake server disabled.\n"
     ]
    }
   ],
   "source": [
    "from plyfile import PlyData\n",
    "import jax \n",
    "import jax.numpy as jnp \n",
    "from jax import grad, jacfwd\n",
    "import polyscope as ps\n",
    "\n",
    "from jaxlie import SO3, SE3\n",
    "\n",
    "import numpy as np\n",
    "import open3d as o3d \n",
    "import trimesh as tm\n",
    "\n",
    "import meshcat\n",
    "from meshcat import Visualizer\n",
    "import meshcat.geometry as mc_geom\n",
    "import meshcat.transformations as mc_trans\n",
    "\n",
    "import time"
   ]
  },
  {
   "cell_type": "code",
   "execution_count": 10,
   "metadata": {},
   "outputs": [],
   "source": [
    "norm = np.array([1., 1., 1.])\n",
    "norm = norm/np.linalg.norm(norm)\n",
    "root = np.array([1., 0., 0.])\n",
    "v1 = np.array([0., 0., 1.])\n",
    "def loss(params):\n",
    "    w = params['w']\n",
    "    v = params['v']\n",
    "    _R = SO3.exp(w)\n",
    "    return jnp.sum(jnp.dot(norm, _R@v1)) + np.sum((norm+root-v)**2)"
   ]
  },
  {
   "cell_type": "code",
   "execution_count": 3,
   "metadata": {},
   "outputs": [
    {
     "name": "stdout",
     "output_type": "stream",
     "text": [
      "You can open the visualizer by visiting the following URL:\n",
      "http://127.0.0.1:7003/static/\n"
     ]
    }
   ],
   "source": [
    "vis = Visualizer()"
   ]
  },
  {
   "cell_type": "code",
   "execution_count": 11,
   "metadata": {},
   "outputs": [],
   "source": [
    "body1 = vis['v1']\n",
    "body1.set_object(mc_geom.triad(scale=0.5))\n",
    "\n",
    "body2 = vis['v2']\n",
    "body2.set_object(mc_geom.triad(scale=0.5))\n",
    "\n",
    "\n",
    "_angle = np.arccos(np.dot(np.array([0.,0.,1.]), norm))\n",
    "_axis = np.cross(np.array([0.,0.,1.]), norm)\n",
    "_R = SO3.exp(_axis*_angle)\n",
    "_T = SE3.from_rotation_and_translation(_R, root).as_matrix()\n",
    "body2.set_transform(np.array(_T, dtype=np.float64))\n",
    "\n"
   ]
  },
  {
   "cell_type": "code",
   "execution_count": 12,
   "metadata": {},
   "outputs": [
    {
     "name": "stdout",
     "output_type": "stream",
     "text": [
      "{'w': Array([0.15375288, 0.14687362, 0.29206684], dtype=float32), 'v': Array([0.31547007, 0.11547005, 0.12347005], dtype=float32)} 2.5973082\n",
      "{'w': Array([0.2106922 , 0.09044492, 0.28350365], dtype=float32), 'v': Array([0.5678461, 0.2078461, 0.2142461], dtype=float32)} 1.8062948\n",
      "{'w': Array([0.27064463, 0.03085877, 0.2743034 ], dtype=float32), 'v': Array([0.76974696, 0.28174692, 0.28686693], dtype=float32)} 1.2687414\n",
      "{'w': Array([ 0.33334464, -0.03164876,  0.2644717 ], dtype=float32), 'v': Array([0.9312676 , 0.34086758, 0.3449636 ], dtype=float32)} 0.8911159\n",
      "{'w': Array([ 0.39842916, -0.09674378,  0.25402907], dtype=float32), 'v': Array([1.0604842 , 0.3881641 , 0.39144093], dtype=float32)} 0.61402595\n",
      "{'w': Array([ 0.4654383 , -0.16399376,  0.24301267], dtype=float32), 'v': Array([1.1638573 , 0.42600134, 0.42862278], dtype=float32)} 0.40007523\n",
      "{'w': Array([ 0.5338238 , -0.2328741 ,  0.23147723], dtype=float32), 'v': Array([1.2465559 , 0.4562711 , 0.45836827], dtype=float32)} 0.22605816\n",
      "{'w': Array([ 0.6029653 , -0.3027829 ,  0.21949464], dtype=float32), 'v': Array([1.3127148 , 0.48048693, 0.48216468], dtype=float32)} 0.07791529\n",
      "{'w': Array([ 0.672195  , -0.3730638 ,  0.20715219], dtype=float32), 'v': Array([1.365642 , 0.4998596, 0.5012018], dtype=float32)} -0.052561983\n",
      "{'w': Array([ 0.7408278 , -0.44303507,  0.19454946], dtype=float32), 'v': Array([1.4079837 , 0.51535773, 0.5164315 ], dtype=float32)} -0.16990851\n",
      "{'w': Array([ 0.8081944 , -0.51202226,  0.18179402], dtype=float32), 'v': Array([1.441857  , 0.5277562 , 0.52861524], dtype=float32)} -0.2764383\n",
      "{'w': Array([ 0.8736735 , -0.57939047,  0.16899644], dtype=float32), 'v': Array([1.4689556 , 0.537675  , 0.53836226], dtype=float32)} -0.37321416\n",
      "{'w': Array([ 0.93671936, -0.64457285,  0.15626514], dtype=float32), 'v': Array([1.4906346 , 0.5456101 , 0.54615986], dtype=float32)} -0.46068335\n",
      "{'w': Array([ 0.9968817 , -0.70709205,  0.1437017 ], dtype=float32), 'v': Array([1.5079777 , 0.5519581 , 0.55239797], dtype=float32)} -0.5390743\n",
      "{'w': Array([ 1.053817  , -0.76657295,  0.13139713], dtype=float32), 'v': Array([1.5218523, 0.5570365, 0.5573884], dtype=float32)} -0.6086219\n",
      "{'w': Array([ 1.1072901, -0.8227466,  0.1194292], dtype=float32), 'v': Array([1.5329518, 0.5610993, 0.5613808], dtype=float32)} -0.66967344\n",
      "{'w': Array([ 1.1571692 , -0.87544626,  0.10786118], dtype=float32), 'v': Array([1.5418315, 0.5643495, 0.5645747], dtype=float32)} -0.72271603\n",
      "{'w': Array([ 1.203414  , -0.9245981 ,  0.09674162], dtype=float32), 'v': Array([1.5489353 , 0.5669496 , 0.56712985], dtype=float32)} -0.7683594\n",
      "{'w': Array([ 1.2460616 , -0.9702072 ,  0.08610506], dtype=float32), 'v': Array([1.5546182 , 0.56902975, 0.56917393], dtype=float32)} -0.8072958\n",
      "{'w': Array([ 1.2852104 , -1.0123432 ,  0.07597336], dtype=float32), 'v': Array([1.5591646 , 0.57069385, 0.5708092 ], dtype=float32)} -0.8402578\n",
      "{'w': Array([ 1.3210049 , -1.0511246 ,  0.06635748], dtype=float32), 'v': Array([1.5628017, 0.5720251, 0.5721174], dtype=float32)} -0.86797786\n",
      "{'w': Array([ 1.3536215, -1.0867058,  0.0572592], dtype=float32), 'v': Array([1.5657114 , 0.57309014, 0.573164  ], dtype=float32)} -0.8911578\n",
      "{'w': Array([ 1.3832568 , -1.1192645 ,  0.04867303], dtype=float32), 'v': Array([1.5680392 , 0.5739422 , 0.57400125], dtype=float32)} -0.9104495\n",
      "{'w': Array([ 1.4101176 , -1.148992  ,  0.04058776], dtype=float32), 'v': Array([1.5699013 , 0.5746238 , 0.57467103], dtype=float32)} -0.9264416\n",
      "{'w': Array([ 1.4344136 , -1.1760852 ,  0.03298799], dtype=float32), 'v': Array([1.5713911, 0.5751691, 0.5752069], dtype=float32)} -0.93965477\n",
      "{'w': Array([ 1.4563513 , -1.2007412 ,  0.02585531], dtype=float32), 'v': Array([1.572583  , 0.57560533, 0.57563555], dtype=float32)} -0.95054305\n",
      "{'w': Array([ 1.4761305 , -1.2231522 ,  0.01916933], dtype=float32), 'v': Array([1.5735364, 0.5759543, 0.5759785], dtype=float32)} -0.959496\n",
      "{'w': Array([ 1.4939413 , -1.2435027 ,  0.01290847], dtype=float32), 'v': Array([1.5742992, 0.5762335, 0.5762529], dtype=float32)} -0.9668452\n",
      "{'w': Array([ 1.5099626, -1.2619683,  0.0070506], dtype=float32), 'v': Array([1.5749094 , 0.57645684, 0.57647234], dtype=float32)} -0.97286934\n",
      "{'w': Array([ 1.5243609 , -1.278713  ,  0.00157352], dtype=float32), 'v': Array([1.5753976 , 0.57663554, 0.57664794], dtype=float32)} -0.9778023\n",
      "{'w': Array([ 1.5372905 , -1.2938902 , -0.00354469], dtype=float32), 'v': Array([1.5757881, 0.5767785, 0.5767884], dtype=float32)} -0.98183876\n",
      "{'w': Array([ 1.5488931 , -1.3076417 , -0.00832541], dtype=float32), 'v': Array([1.5761006 , 0.57689285, 0.5769008 ], dtype=float32)} -0.9851398\n",
      "{'w': Array([ 1.5592985 , -1.320098  , -0.01278928], dtype=float32), 'v': Array([1.5763506 , 0.57698435, 0.57699066], dtype=float32)} -0.9878381\n",
      "{'w': Array([ 1.5686252, -1.331379 , -0.0169561], dtype=float32), 'v': Array([1.5765505 , 0.57705754, 0.5770626 ], dtype=float32)} -0.99004346\n",
      "{'w': Array([ 1.5769807 , -1.3415945 , -0.02084477], dtype=float32), 'v': Array([1.5767105, 0.5771161, 0.5771201], dtype=float32)} -0.99184585\n",
      "{'w': Array([ 1.5844626 , -1.3508441 , -0.02447319], dtype=float32), 'v': Array([1.5768384 , 0.5771629 , 0.57716614], dtype=float32)} -0.9933188\n",
      "{'w': Array([ 1.5911595 , -1.3592193 , -0.02785832], dtype=float32), 'v': Array([1.5769408, 0.5772004, 0.577203 ], dtype=float32)} -0.99452287\n",
      "{'w': Array([ 1.5971509 , -1.3668026 , -0.03101614], dtype=float32), 'v': Array([1.5770227, 0.5772304, 0.5772324], dtype=float32)} -0.9955073\n",
      "{'w': Array([ 1.6025093 , -1.3736693 , -0.03396168], dtype=float32), 'v': Array([1.5770882 , 0.57725435, 0.57725596], dtype=float32)} -0.9963122\n",
      "{'w': Array([ 1.6072993 , -1.3798875 , -0.03670905], dtype=float32), 'v': Array([1.5771407 , 0.57727355, 0.5772748 ], dtype=float32)} -0.996971\n",
      "{'w': Array([ 1.6115798 , -1.3855189 , -0.03927149], dtype=float32), 'v': Array([1.5771827 , 0.57728887, 0.5772899 ], dtype=float32)} -0.99751\n",
      "{'w': Array([ 1.6154032, -1.3906195, -0.0416614], dtype=float32), 'v': Array([1.5772161 , 0.57730114, 0.577302  ], dtype=float32)} -0.9979515\n",
      "{'w': Array([ 1.618817  , -1.39524   , -0.04389036], dtype=float32), 'v': Array([1.577243  , 0.577311  , 0.57731164], dtype=float32)} -0.99831355\n",
      "{'w': Array([ 1.6218637 , -1.3994261 , -0.04596922], dtype=float32), 'v': Array([1.5772644 , 0.57731885, 0.5773194 ], dtype=float32)} -0.99860996\n",
      "{'w': Array([ 1.6245818 , -1.4032192 , -0.04790809], dtype=float32), 'v': Array([1.5772816, 0.5773251, 0.5773256], dtype=float32)} -0.99885327\n",
      "{'w': Array([ 1.6270055 , -1.4066569 , -0.04971643], dtype=float32), 'v': Array([1.5772953, 0.5773301, 0.5773305], dtype=float32)} -0.9990531\n",
      "{'w': Array([ 1.6291656 , -1.4097729 , -0.05140305], dtype=float32), 'v': Array([1.5773063 , 0.57733417, 0.57733446], dtype=float32)} -0.9992172\n",
      "{'w': Array([ 1.63109   , -1.4125979 , -0.05297619], dtype=float32), 'v': Array([1.5773151, 0.5773374, 0.5773376], dtype=float32)} -0.9993522\n",
      "{'w': Array([ 1.6328034 , -1.4151596 , -0.05444351], dtype=float32), 'v': Array([1.5773221 , 0.57733995, 0.5773401 ], dtype=float32)} -0.99946314\n",
      "{'w': Array([ 1.6343281 , -1.417483  , -0.05581218], dtype=float32), 'v': Array([1.5773277 , 0.57734203, 0.57734215], dtype=float32)} -0.99955505\n",
      "{'w': Array([ 1.6356841 , -1.4195907 , -0.05708886], dtype=float32), 'v': Array([1.5773323 , 0.5773437 , 0.57734376], dtype=float32)} -0.9996303\n",
      "{'w': Array([ 1.6368895 , -1.4215032 , -0.05827978], dtype=float32), 'v': Array([1.5773358, 0.577345 , 0.5773451], dtype=float32)} -0.9996927\n",
      "{'w': Array([ 1.6379601 , -1.4232389 , -0.05939073], dtype=float32), 'v': Array([1.5773387, 0.5773461, 0.5773461], dtype=float32)} -0.9997441\n",
      "{'w': Array([ 1.6389103 , -1.4248146 , -0.06042711], dtype=float32), 'v': Array([1.577341 , 0.5773469, 0.5773469], dtype=float32)} -0.99978673\n",
      "{'w': Array([ 1.6397532 , -1.4262452 , -0.06139397], dtype=float32), 'v': Array([1.5773429, 0.5773476, 0.5773476], dtype=float32)} -0.99982196\n",
      "{'w': Array([ 1.6405002, -1.4275446, -0.062296 ], dtype=float32), 'v': Array([1.5773443, 0.5773481, 0.5773481], dtype=float32)} -0.99985117\n",
      "{'w': Array([ 1.6411617 , -1.428725  , -0.06313757], dtype=float32), 'v': Array([1.5773455 , 0.57734853, 0.57734853], dtype=float32)} -0.9998754\n",
      "{'w': Array([ 1.6417469 , -1.4297976 , -0.06392276], dtype=float32), 'v': Array([1.5773464, 0.5773489, 0.5773489], dtype=float32)} -0.99989563\n",
      "{'w': Array([ 1.6422641 , -1.4307725 , -0.06465538], dtype=float32), 'v': Array([1.5773472, 0.5773492, 0.5773492], dtype=float32)} -0.9999123\n",
      "{'w': Array([ 1.6427209 , -1.4316589 , -0.06533896], dtype=float32), 'v': Array([1.5773478, 0.5773494, 0.5773494], dtype=float32)} -0.9999264\n",
      "{'w': Array([ 1.6431237 , -1.4324648 , -0.06597681], dtype=float32), 'v': Array([1.5773482, 0.5773496, 0.5773496], dtype=float32)} -0.99993813\n",
      "{'w': Array([ 1.6434786 , -1.4331981 , -0.06657201], dtype=float32), 'v': Array([1.5773486, 0.5773497, 0.5773497], dtype=float32)} -0.9999481\n",
      "{'w': Array([ 1.6437908 , -1.4338652 , -0.06712742], dtype=float32), 'v': Array([1.577349  , 0.57734984, 0.57734984], dtype=float32)} -0.999956\n",
      "{'w': Array([ 1.6440651 , -1.4344724 , -0.06764573], dtype=float32), 'v': Array([1.5773492, 0.5773499, 0.5773499], dtype=float32)} -0.9999628\n",
      "{'w': Array([ 1.6443057 , -1.4350252 , -0.06812942], dtype=float32), 'v': Array([1.5773494 , 0.57734996, 0.57734996], dtype=float32)} -0.99996865\n",
      "{'w': Array([ 1.6445163 , -1.4355286 , -0.06858082], dtype=float32), 'v': Array([1.5773495, 0.57735  , 0.57735  ], dtype=float32)} -0.9999734\n",
      "{'w': Array([ 1.6447004, -1.4359872, -0.0690021], dtype=float32), 'v': Array([1.5773497, 0.5773501, 0.5773501], dtype=float32)} -0.9999774\n",
      "{'w': Array([ 1.644861  , -1.4364052 , -0.06939528], dtype=float32), 'v': Array([1.5773498 , 0.57735014, 0.57735014], dtype=float32)} -0.9999807\n",
      "{'w': Array([ 1.6450007 , -1.4367862 , -0.06976224], dtype=float32), 'v': Array([1.5773499 , 0.57735014, 0.57735014], dtype=float32)} -0.9999836\n",
      "{'w': Array([ 1.6451219 , -1.4371336 , -0.07010475], dtype=float32), 'v': Array([1.57735   , 0.57735014, 0.57735014], dtype=float32)} -0.9999862\n",
      "{'w': Array([ 1.645227  , -1.4374503 , -0.07042443], dtype=float32), 'v': Array([1.57735   , 0.57735014, 0.57735014], dtype=float32)} -0.9999882\n",
      "{'w': Array([ 1.6453176 , -1.4377394 , -0.07072282], dtype=float32), 'v': Array([1.57735   , 0.57735014, 0.57735014], dtype=float32)} -0.9999897\n",
      "{'w': Array([ 1.6453955 , -1.4380032 , -0.07100134], dtype=float32), 'v': Array([1.57735   , 0.57735014, 0.57735014], dtype=float32)} -0.9999915\n",
      "{'w': Array([ 1.6454623 , -1.438244  , -0.07126132], dtype=float32), 'v': Array([1.57735   , 0.57735014, 0.57735014], dtype=float32)} -0.9999927\n",
      "{'w': Array([ 1.6455191, -1.4384639, -0.071504 ], dtype=float32), 'v': Array([1.57735   , 0.57735014, 0.57735014], dtype=float32)} -0.9999936\n",
      "{'w': Array([ 1.6455673 , -1.4386648 , -0.07173055], dtype=float32), 'v': Array([1.57735   , 0.57735014, 0.57735014], dtype=float32)} -0.9999946\n",
      "{'w': Array([ 1.645608  , -1.4388484 , -0.07194202], dtype=float32), 'v': Array([1.57735   , 0.57735014, 0.57735014], dtype=float32)} -0.99999547\n",
      "{'w': Array([ 1.6456419 , -1.4390162 , -0.07213944], dtype=float32), 'v': Array([1.57735   , 0.57735014, 0.57735014], dtype=float32)} -0.999996\n",
      "{'w': Array([ 1.64567   , -1.4391698 , -0.07232374], dtype=float32), 'v': Array([1.57735   , 0.57735014, 0.57735014], dtype=float32)} -0.9999966\n",
      "{'w': Array([ 1.6456932 , -1.4393102 , -0.07249579], dtype=float32), 'v': Array([1.57735   , 0.57735014, 0.57735014], dtype=float32)} -0.99999714\n",
      "{'w': Array([ 1.6457118 , -1.4394387 , -0.07265642], dtype=float32), 'v': Array([1.57735   , 0.57735014, 0.57735014], dtype=float32)} -0.99999756\n",
      "{'w': Array([ 1.6457266 , -1.4395564 , -0.07280637], dtype=float32), 'v': Array([1.57735   , 0.57735014, 0.57735014], dtype=float32)} -0.99999756\n",
      "{'w': Array([ 1.645738  , -1.4396641 , -0.07294637], dtype=float32), 'v': Array([1.57735   , 0.57735014, 0.57735014], dtype=float32)} -0.99999833\n",
      "{'w': Array([ 1.6457466 , -1.4397628 , -0.07307708], dtype=float32), 'v': Array([1.57735   , 0.57735014, 0.57735014], dtype=float32)} -0.99999803\n",
      "{'w': Array([ 1.6457528, -1.4398532, -0.0731991], dtype=float32), 'v': Array([1.57735   , 0.57735014, 0.57735014], dtype=float32)} -0.99999857\n",
      "{'w': Array([ 1.6457568 , -1.439936  , -0.07331304], dtype=float32), 'v': Array([1.57735   , 0.57735014, 0.57735014], dtype=float32)} -0.99999875\n",
      "{'w': Array([ 1.6457591 , -1.440012  , -0.07341941], dtype=float32), 'v': Array([1.57735   , 0.57735014, 0.57735014], dtype=float32)} -0.9999988\n",
      "{'w': Array([ 1.6457598 , -1.4400817 , -0.07351874], dtype=float32), 'v': Array([1.57735   , 0.57735014, 0.57735014], dtype=float32)} -0.99999917\n",
      "{'w': Array([ 1.6457592 , -1.4401457 , -0.07361148], dtype=float32), 'v': Array([1.57735   , 0.57735014, 0.57735014], dtype=float32)} -0.99999917\n",
      "{'w': Array([ 1.6457576 , -1.4402044 , -0.07369807], dtype=float32), 'v': Array([1.57735   , 0.57735014, 0.57735014], dtype=float32)} -0.9999992\n",
      "{'w': Array([ 1.6457549 , -1.4402583 , -0.07377892], dtype=float32), 'v': Array([1.57735   , 0.57735014, 0.57735014], dtype=float32)} -0.9999994\n",
      "{'w': Array([ 1.6457516 , -1.4403077 , -0.07385441], dtype=float32), 'v': Array([1.57735   , 0.57735014, 0.57735014], dtype=float32)} -0.99999934\n",
      "{'w': Array([ 1.6457477, -1.4403533, -0.0739249], dtype=float32), 'v': Array([1.57735   , 0.57735014, 0.57735014], dtype=float32)} -0.9999996\n",
      "{'w': Array([ 1.6457433 , -1.4403951 , -0.07399072], dtype=float32), 'v': Array([1.57735   , 0.57735014, 0.57735014], dtype=float32)} -0.99999964\n",
      "{'w': Array([ 1.6457385 , -1.4404336 , -0.07405218], dtype=float32), 'v': Array([1.57735   , 0.57735014, 0.57735014], dtype=float32)} -0.9999996\n",
      "{'w': Array([ 1.6457335 , -1.440469  , -0.07410956], dtype=float32), 'v': Array([1.57735   , 0.57735014, 0.57735014], dtype=float32)} -0.9999997\n",
      "{'w': Array([ 1.6457282 , -1.4405016 , -0.07416315], dtype=float32), 'v': Array([1.57735   , 0.57735014, 0.57735014], dtype=float32)} -0.9999998\n",
      "{'w': Array([ 1.6457229 , -1.4405315 , -0.07421318], dtype=float32), 'v': Array([1.57735   , 0.57735014, 0.57735014], dtype=float32)} -0.9999997\n",
      "{'w': Array([ 1.6457174 , -1.440559  , -0.07425991], dtype=float32), 'v': Array([1.57735   , 0.57735014, 0.57735014], dtype=float32)} -0.9999998\n",
      "{'w': Array([ 1.6457119 , -1.4405844 , -0.07430355], dtype=float32), 'v': Array([1.57735   , 0.57735014, 0.57735014], dtype=float32)} -0.99999994\n"
     ]
    }
   ],
   "source": [
    "w = jnp.array([0.1,0.2,0.3])\n",
    "v = jnp.array([.0,0.,.01])\n",
    "\n",
    "params = {'w': w, 'v':v}\n",
    "for _ in range(100):\n",
    "    _grad = grad(loss)(params)\n",
    "    params['w'] = params['w'] - 0.1*_grad['w']\n",
    "    params['v'] = params['v'] - 0.1*_grad['v']\n",
    "    _R = SO3.exp(params['w'])\n",
    "    _T = SE3.from_rotation_and_translation(_R, params['v']).as_matrix()\n",
    "    body1.set_transform(np.array(_T, dtype=np.float64))\n",
    "    print(params, loss(params))\n",
    "    time.sleep(0.1)"
   ]
  },
  {
   "cell_type": "code",
   "execution_count": null,
   "metadata": {},
   "outputs": [],
   "source": [
    "dataset = o3d.data.BunnyMesh()\n",
    "plydata = PlyData.read(dataset.path)\n",
    "vertices = np.vstack((\n",
    "    plydata['vertex']['x'],\n",
    "    plydata['vertex']['y'],\n",
    "    plydata['vertex']['z']\n",
    ")).T\n",
    "\n",
    "# _min_pnt = vertices.min(axis=0)\n",
    "# _max_pnt = vertices.max(axis=0)\n",
    "# _mid_pnt = vertices.mean(axis=0)\n",
    "# vertices = (vertices - _mid_pnt)/(_max_pnt-_min_pnt)\n",
    "\n",
    "faces = np.array(np.vstack(plydata['face']['vertex_indices']))\n",
    "\n",
    "mesh = tm.Trimesh(vertices=vertices, faces=faces)\n",
    "\n",
    "ds_mesh = mesh.simplify_quadric_decimation(int(mesh.vertices.shape[0]/10))"
   ]
  },
  {
   "cell_type": "code",
   "execution_count": null,
   "metadata": {},
   "outputs": [],
   "source": [
    "# ps.init()\n",
    "\n",
    "# ps_mesh = ps.register_surface_mesh(\"my mesh\", ds_mesh.vertices, ds_mesh.faces)\n",
    "# ps_mesh.add_vector_quantity(\"rand vecs\", ds_mesh.vertex_normals, enabled=True)\n",
    "\n",
    "\n",
    "# ps.show()"
   ]
  },
  {
   "cell_type": "code",
   "execution_count": null,
   "metadata": {},
   "outputs": [],
   "source": []
  }
 ],
 "metadata": {
  "kernelspec": {
   "display_name": "base",
   "language": "python",
   "name": "python3"
  },
  "language_info": {
   "codemirror_mode": {
    "name": "ipython",
    "version": 3
   },
   "file_extension": ".py",
   "mimetype": "text/x-python",
   "name": "python",
   "nbconvert_exporter": "python",
   "pygments_lexer": "ipython3",
   "version": "3.8.13"
  }
 },
 "nbformat": 4,
 "nbformat_minor": 2
}
