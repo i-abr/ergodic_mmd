{
 "cells": [
  {
   "cell_type": "code",
   "execution_count": 2,
   "metadata": {},
   "outputs": [
    {
     "name": "stderr",
     "output_type": "stream",
     "text": [
      "objc[20750]: Class GLFWWindowDelegate is implemented in both /Users/ia285/miniconda3/lib/python3.10/site-packages/polyscope_bindings.cpython-310-darwin.so (0x12f646e90) and /Users/ia285/miniconda3/lib/python3.10/site-packages/open3d/cpu/pybind.cpython-310-darwin.so (0x16c5bedb0). One of the two will be used. Which one is undefined.\n",
      "objc[20750]: Class GLFWApplicationDelegate is implemented in both /Users/ia285/miniconda3/lib/python3.10/site-packages/polyscope_bindings.cpython-310-darwin.so (0x12f646e68) and /Users/ia285/miniconda3/lib/python3.10/site-packages/open3d/cpu/pybind.cpython-310-darwin.so (0x16c5bee28). One of the two will be used. Which one is undefined.\n",
      "objc[20750]: Class GLFWContentView is implemented in both /Users/ia285/miniconda3/lib/python3.10/site-packages/polyscope_bindings.cpython-310-darwin.so (0x12f646ee0) and /Users/ia285/miniconda3/lib/python3.10/site-packages/open3d/cpu/pybind.cpython-310-darwin.so (0x16c5bee50). One of the two will be used. Which one is undefined.\n",
      "objc[20750]: Class GLFWWindow is implemented in both /Users/ia285/miniconda3/lib/python3.10/site-packages/polyscope_bindings.cpython-310-darwin.so (0x12f646f58) and /Users/ia285/miniconda3/lib/python3.10/site-packages/open3d/cpu/pybind.cpython-310-darwin.so (0x16c5beec8). One of the two will be used. Which one is undefined.\n"
     ]
    }
   ],
   "source": [
    "from plyfile import PlyData\n",
    "import jax \n",
    "import jax.numpy as jnp \n",
    "from jax import grad, jacfwd\n",
    "import polyscope as ps\n",
    "\n",
    "from jaxlie import SO3, SE3\n",
    "\n",
    "import numpy as np\n",
    "import open3d as o3d \n",
    "import trimesh as tm\n",
    "\n",
    "import meshcat\n",
    "from meshcat import Visualizer\n",
    "import meshcat.geometry as mc_geom\n",
    "import meshcat.transformations as mc_trans\n",
    "\n",
    "import time"
   ]
  },
  {
   "cell_type": "code",
   "execution_count": 22,
   "metadata": {},
   "outputs": [],
   "source": [
    "v2 = np.array([0., 1., 1.])\n",
    "v2 = v2/np.linalg.norm(v2)\n",
    "v1 = np.array([0., 0., 1.])\n",
    "def loss(params):\n",
    "    w = params['w']\n",
    "    v = params['v']\n",
    "    _R = SO3.exp(w)\n",
    "    return jnp.sum(jnp.dot(v2, _R@v1))"
   ]
  },
  {
   "cell_type": "code",
   "execution_count": 27,
   "metadata": {},
   "outputs": [
    {
     "data": {
      "text/plain": [
       "array([0.        , 0.70710678, 0.70710678])"
      ]
     },
     "execution_count": 27,
     "metadata": {},
     "output_type": "execute_result"
    }
   ],
   "source": [
    "v2"
   ]
  },
  {
   "cell_type": "code",
   "execution_count": 28,
   "metadata": {},
   "outputs": [
    {
     "data": {
      "text/plain": [
       "Array([ 8.4449729e-04, -3.4630299e-05,  3.4987926e-05], dtype=float32)"
      ]
     },
     "execution_count": 28,
     "metadata": {},
     "output_type": "execute_result"
    }
   ],
   "source": [
    "SE3.from_rotation_and_translation(_R, v2)@v1"
   ]
  },
  {
   "cell_type": "code",
   "execution_count": 16,
   "metadata": {},
   "outputs": [
    {
     "name": "stdout",
     "output_type": "stream",
     "text": [
      "You can open the visualizer by visiting the following URL:\n",
      "http://127.0.0.1:7004/static/\n"
     ]
    },
    {
     "data": {
      "text/html": [
       "\n",
       "            <div style=\"height: 400px; width: 100%; overflow-x: auto; overflow-y: hidden; resize: both\">\n",
       "            <iframe src=\"http://127.0.0.1:7004/static/\" style=\"width: 100%; height: 100%; border: none\"></iframe>\n",
       "            </div>\n",
       "            "
      ],
      "text/plain": [
       "<IPython.core.display.HTML object>"
      ]
     },
     "execution_count": 16,
     "metadata": {},
     "output_type": "execute_result"
    }
   ],
   "source": [
    "vis = Visualizer()\n",
    "vis.jupyter_cell()"
   ]
  },
  {
   "cell_type": "code",
   "execution_count": 18,
   "metadata": {},
   "outputs": [],
   "source": [
    "body1 = vis['v1']\n",
    "body1.set_object(mc_geom.triad(scale=0.5))\n"
   ]
  },
  {
   "cell_type": "code",
   "execution_count": null,
   "metadata": {},
   "outputs": [],
   "source": [
    "w = jnp.array([0.1,0.2,0.3])\n",
    "v = jnp.array([.0,0.,.2])\n",
    "\n",
    "params = {'w': w, 'v':v}\n",
    "for _ in range(100):\n",
    "    _grad = grad(loss)(params)\n",
    "    params['w'] = params['w'] - 0.1*_grad['w']\n",
    "    params['v'] = params['v'] - 0.1*_grad['v']\n",
    "    _R = SO3.exp(params['w'])\n",
    "    _T = SE3.from_rotation_and_translation(_R, v2).as_matrix()\n",
    "    body1.set_transform(np.array(_T, dtype=np.float64))\n",
    "    print(params, loss(params))\n",
    "    time.sleep(0.1)"
   ]
  },
  {
   "cell_type": "code",
   "execution_count": 1,
   "metadata": {},
   "outputs": [
    {
     "ename": "NameError",
     "evalue": "name 'o3d' is not defined",
     "output_type": "error",
     "traceback": [
      "\u001b[0;31m---------------------------------------------------------------------------\u001b[0m",
      "\u001b[0;31mNameError\u001b[0m                                 Traceback (most recent call last)",
      "Cell \u001b[0;32mIn[1], line 1\u001b[0m\n\u001b[0;32m----> 1\u001b[0m dataset \u001b[38;5;241m=\u001b[39m \u001b[43mo3d\u001b[49m\u001b[38;5;241m.\u001b[39mdata\u001b[38;5;241m.\u001b[39mBunnyMesh()\n\u001b[1;32m      2\u001b[0m plydata \u001b[38;5;241m=\u001b[39m PlyData\u001b[38;5;241m.\u001b[39mread(dataset\u001b[38;5;241m.\u001b[39mpath)\n\u001b[1;32m      3\u001b[0m vertices \u001b[38;5;241m=\u001b[39m np\u001b[38;5;241m.\u001b[39mvstack((\n\u001b[1;32m      4\u001b[0m     plydata[\u001b[38;5;124m'\u001b[39m\u001b[38;5;124mvertex\u001b[39m\u001b[38;5;124m'\u001b[39m][\u001b[38;5;124m'\u001b[39m\u001b[38;5;124mx\u001b[39m\u001b[38;5;124m'\u001b[39m],\n\u001b[1;32m      5\u001b[0m     plydata[\u001b[38;5;124m'\u001b[39m\u001b[38;5;124mvertex\u001b[39m\u001b[38;5;124m'\u001b[39m][\u001b[38;5;124m'\u001b[39m\u001b[38;5;124my\u001b[39m\u001b[38;5;124m'\u001b[39m],\n\u001b[1;32m      6\u001b[0m     plydata[\u001b[38;5;124m'\u001b[39m\u001b[38;5;124mvertex\u001b[39m\u001b[38;5;124m'\u001b[39m][\u001b[38;5;124m'\u001b[39m\u001b[38;5;124mz\u001b[39m\u001b[38;5;124m'\u001b[39m]\n\u001b[1;32m      7\u001b[0m ))\u001b[38;5;241m.\u001b[39mT\n",
      "\u001b[0;31mNameError\u001b[0m: name 'o3d' is not defined"
     ]
    }
   ],
   "source": [
    "dataset = o3d.data.BunnyMesh()\n",
    "plydata = PlyData.read(dataset.path)\n",
    "vertices = np.vstack((\n",
    "    plydata['vertex']['x'],\n",
    "    plydata['vertex']['y'],\n",
    "    plydata['vertex']['z']\n",
    ")).T\n",
    "\n",
    "# _min_pnt = vertices.min(axis=0)\n",
    "# _max_pnt = vertices.max(axis=0)\n",
    "# _mid_pnt = vertices.mean(axis=0)\n",
    "# vertices = (vertices - _mid_pnt)/(_max_pnt-_min_pnt)\n",
    "\n",
    "faces = np.array(np.vstack(plydata['face']['vertex_indices']))\n",
    "\n",
    "mesh = tm.Trimesh(vertices=vertices, faces=faces)\n",
    "\n",
    "ds_mesh = mesh.simplify_quadric_decimation(int(mesh.vertices.shape[0]/10))"
   ]
  },
  {
   "cell_type": "code",
   "execution_count": 60,
   "metadata": {},
   "outputs": [],
   "source": [
    "ps.init()\n",
    "\n",
    "ps_mesh = ps.register_surface_mesh(\"my mesh\", ds_mesh.vertices, ds_mesh.faces)\n",
    "ps_mesh.add_vector_quantity(\"rand vecs\", ds_mesh.vertex_normals, enabled=True)\n",
    "\n",
    "\n",
    "ps.show()"
   ]
  }
 ],
 "metadata": {
  "kernelspec": {
   "display_name": "base",
   "language": "python",
   "name": "python3"
  },
  "language_info": {
   "codemirror_mode": {
    "name": "ipython",
    "version": 3
   },
   "file_extension": ".py",
   "mimetype": "text/x-python",
   "name": "python",
   "nbconvert_exporter": "python",
   "pygments_lexer": "ipython3",
   "version": "3.10.2"
  }
 },
 "nbformat": 4,
 "nbformat_minor": 2
}
