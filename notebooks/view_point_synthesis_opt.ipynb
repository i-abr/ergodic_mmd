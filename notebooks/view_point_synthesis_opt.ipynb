{
 "cells": [
  {
   "cell_type": "code",
   "execution_count": 2,
   "metadata": {},
   "outputs": [
    {
     "name": "stderr",
     "output_type": "stream",
     "text": [
      "objc[104]: Class GLFWWindowDelegate is implemented in both /Users/ia285/miniconda3/lib/python3.10/site-packages/polyscope_bindings.cpython-310-darwin.so (0x11eaeae90) and /Users/ia285/miniconda3/lib/python3.10/site-packages/open3d/cpu/pybind.cpython-310-darwin.so (0x17b142db0). One of the two will be used. Which one is undefined.\n",
      "objc[104]: Class GLFWApplicationDelegate is implemented in both /Users/ia285/miniconda3/lib/python3.10/site-packages/polyscope_bindings.cpython-310-darwin.so (0x11eaeae68) and /Users/ia285/miniconda3/lib/python3.10/site-packages/open3d/cpu/pybind.cpython-310-darwin.so (0x17b142e28). One of the two will be used. Which one is undefined.\n",
      "objc[104]: Class GLFWContentView is implemented in both /Users/ia285/miniconda3/lib/python3.10/site-packages/polyscope_bindings.cpython-310-darwin.so (0x11eaeaee0) and /Users/ia285/miniconda3/lib/python3.10/site-packages/open3d/cpu/pybind.cpython-310-darwin.so (0x17b142e50). One of the two will be used. Which one is undefined.\n",
      "objc[104]: Class GLFWWindow is implemented in both /Users/ia285/miniconda3/lib/python3.10/site-packages/polyscope_bindings.cpython-310-darwin.so (0x11eaeaf58) and /Users/ia285/miniconda3/lib/python3.10/site-packages/open3d/cpu/pybind.cpython-310-darwin.so (0x17b142ec8). One of the two will be used. Which one is undefined.\n"
     ]
    }
   ],
   "source": [
    "from plyfile import PlyData\n",
    "import jax \n",
    "import jax.numpy as jnp \n",
    "from jax import grad, jacfwd, vmap, jit\n",
    "import polyscope as ps\n",
    "\n",
    "from jaxlie import SO3, SE3\n",
    "from jax.flatten_util import ravel_pytree\n",
    "\n",
    "import numpy as np\n",
    "import open3d as o3d \n",
    "import trimesh as tm\n",
    "\n",
    "import meshcat\n",
    "from meshcat import Visualizer\n",
    "import meshcat.geometry as mc_geom\n",
    "import meshcat.transformations as mc_trans\n",
    "\n",
    "from kernel import create_kernel_matrix, RBF\n",
    "import jaxopt\n",
    "\n",
    "import time"
   ]
  },
  {
   "cell_type": "code",
   "execution_count": 10,
   "metadata": {},
   "outputs": [],
   "source": [
    "norm = np.array([1., 1., 1.])\n",
    "norm = norm/np.linalg.norm(norm)\n",
    "root = np.array([1., 0., 0.])\n",
    "\n",
    "args = {'norm' : norm, 'root' : root}\n",
    "v1 = np.array([0., 0., 1.])\n",
    "def loss(params, args):\n",
    "    w = params['w']\n",
    "    v = params['v']\n",
    "    norm = args['norm']\n",
    "    root = args['root']\n",
    "    _R = SO3.exp(w)\n",
    "    return jnp.sum((norm+_R@v1)**2) + np.sum((norm+root-v)**2)"
   ]
  },
  {
   "cell_type": "code",
   "execution_count": 4,
   "metadata": {},
   "outputs": [
    {
     "name": "stdout",
     "output_type": "stream",
     "text": [
      "You can open the visualizer by visiting the following URL:\n",
      "http://127.0.0.1:7002/static/\n"
     ]
    }
   ],
   "source": [
    "vis = Visualizer()"
   ]
  },
  {
   "cell_type": "code",
   "execution_count": 5,
   "metadata": {},
   "outputs": [
    {
     "name": "stderr",
     "output_type": "stream",
     "text": [
      "WARNING: All log messages before absl::InitializeLog() is called are written to STDERR\n",
      "I0000 00:00:1723150872.261561       1 tfrt_cpu_pjrt_client.cc:349] TfrtCpuClient created.\n"
     ]
    }
   ],
   "source": [
    "body1 = vis['v1']\n",
    "body1.set_object(mc_geom.triad(scale=0.5))\n",
    "\n",
    "body2 = vis['v2']\n",
    "body2.set_object(mc_geom.triad(scale=0.5))\n",
    "\n",
    "\n",
    "_angle = np.arccos(np.dot(np.array([0.,0.,1.]), norm))\n",
    "_axis = np.cross(np.array([0.,0.,1.]), norm)\n",
    "_R = SO3.exp(_axis*_angle)\n",
    "_T = SE3.from_rotation_and_translation(_R, root).as_matrix()\n",
    "body2.set_transform(np.array(_T, dtype=np.float64))\n",
    "\n"
   ]
  },
  {
   "cell_type": "code",
   "execution_count": 44,
   "metadata": {},
   "outputs": [
    {
     "ename": "KeyError",
     "evalue": "'norm'",
     "output_type": "error",
     "traceback": [
      "\u001b[0;31m---------------------------------------------------------------------------\u001b[0m",
      "\u001b[0;31mKeyError\u001b[0m                                  Traceback (most recent call last)",
      "Cell \u001b[0;32mIn[44], line 6\u001b[0m\n\u001b[1;32m      4\u001b[0m params \u001b[38;5;241m=\u001b[39m {\u001b[38;5;124m'\u001b[39m\u001b[38;5;124mw\u001b[39m\u001b[38;5;124m'\u001b[39m: w, \u001b[38;5;124m'\u001b[39m\u001b[38;5;124mv\u001b[39m\u001b[38;5;124m'\u001b[39m:v}\n\u001b[1;32m      5\u001b[0m \u001b[38;5;28;01mfor\u001b[39;00m _ \u001b[38;5;129;01min\u001b[39;00m \u001b[38;5;28mrange\u001b[39m(\u001b[38;5;241m100\u001b[39m):\n\u001b[0;32m----> 6\u001b[0m     _grad \u001b[38;5;241m=\u001b[39m \u001b[43mgrad\u001b[49m\u001b[43m(\u001b[49m\u001b[43mloss\u001b[49m\u001b[43m)\u001b[49m\u001b[43m(\u001b[49m\u001b[43mparams\u001b[49m\u001b[43m,\u001b[49m\u001b[43m \u001b[49m\u001b[43margs\u001b[49m\u001b[43m)\u001b[49m\n\u001b[1;32m      7\u001b[0m     params[\u001b[38;5;124m'\u001b[39m\u001b[38;5;124mw\u001b[39m\u001b[38;5;124m'\u001b[39m] \u001b[38;5;241m=\u001b[39m params[\u001b[38;5;124m'\u001b[39m\u001b[38;5;124mw\u001b[39m\u001b[38;5;124m'\u001b[39m] \u001b[38;5;241m-\u001b[39m \u001b[38;5;241m0.1\u001b[39m\u001b[38;5;241m*\u001b[39m_grad[\u001b[38;5;124m'\u001b[39m\u001b[38;5;124mw\u001b[39m\u001b[38;5;124m'\u001b[39m]\n\u001b[1;32m      8\u001b[0m     params[\u001b[38;5;124m'\u001b[39m\u001b[38;5;124mv\u001b[39m\u001b[38;5;124m'\u001b[39m] \u001b[38;5;241m=\u001b[39m params[\u001b[38;5;124m'\u001b[39m\u001b[38;5;124mv\u001b[39m\u001b[38;5;124m'\u001b[39m] \u001b[38;5;241m-\u001b[39m \u001b[38;5;241m0.1\u001b[39m\u001b[38;5;241m*\u001b[39m_grad[\u001b[38;5;124m'\u001b[39m\u001b[38;5;124mv\u001b[39m\u001b[38;5;124m'\u001b[39m]\n",
      "    \u001b[0;31m[... skipping hidden 10 frame]\u001b[0m\n",
      "Cell \u001b[0;32mIn[10], line 10\u001b[0m, in \u001b[0;36mloss\u001b[0;34m(params, args)\u001b[0m\n\u001b[1;32m      8\u001b[0m w \u001b[38;5;241m=\u001b[39m params[\u001b[38;5;124m'\u001b[39m\u001b[38;5;124mw\u001b[39m\u001b[38;5;124m'\u001b[39m]\n\u001b[1;32m      9\u001b[0m v \u001b[38;5;241m=\u001b[39m params[\u001b[38;5;124m'\u001b[39m\u001b[38;5;124mv\u001b[39m\u001b[38;5;124m'\u001b[39m]\n\u001b[0;32m---> 10\u001b[0m norm \u001b[38;5;241m=\u001b[39m \u001b[43margs\u001b[49m\u001b[43m[\u001b[49m\u001b[38;5;124;43m'\u001b[39;49m\u001b[38;5;124;43mnorm\u001b[39;49m\u001b[38;5;124;43m'\u001b[39;49m\u001b[43m]\u001b[49m\n\u001b[1;32m     11\u001b[0m root \u001b[38;5;241m=\u001b[39m args[\u001b[38;5;124m'\u001b[39m\u001b[38;5;124mroot\u001b[39m\u001b[38;5;124m'\u001b[39m]\n\u001b[1;32m     12\u001b[0m _R \u001b[38;5;241m=\u001b[39m SO3\u001b[38;5;241m.\u001b[39mexp(w)\n",
      "\u001b[0;31mKeyError\u001b[0m: 'norm'"
     ]
    }
   ],
   "source": [
    "w = jnp.array([0.1,0.2,0.3])\n",
    "v = jnp.array([.0,0.,.01])\n",
    "\n",
    "params = {'w': w, 'v':v}\n",
    "for _ in range(100):\n",
    "    _grad = grad(loss)(params, args)\n",
    "    params['w'] = params['w'] - 0.1*_grad['w']\n",
    "    params['v'] = params['v'] - 0.1*_grad['v']\n",
    "    _R = SO3.exp(params['w'])\n",
    "    _T = SE3.from_rotation_and_translation(_R, params['v']).as_matrix()\n",
    "    body1.set_transform(np.array(_T, dtype=np.float64))\n",
    "    # print(params, loss(params, args))\n",
    "    time.sleep(0.1)"
   ]
  },
  {
   "cell_type": "code",
   "execution_count": 4,
   "metadata": {},
   "outputs": [],
   "source": [
    "dataset = o3d.data.BunnyMesh()\n",
    "plydata = PlyData.read(dataset.path)\n",
    "vertices = np.vstack((\n",
    "    plydata['vertex']['x'],\n",
    "    plydata['vertex']['y'],\n",
    "    plydata['vertex']['z']\n",
    ")).T\n",
    "\n",
    "# _min_pnt = vertices.min(axis=0)\n",
    "# _max_pnt = vertices.max(axis=0)\n",
    "# _mid_pnt = vertices.mean(axis=0)\n",
    "# vertices = (vertices - _mid_pnt)/(_max_pnt-_min_pnt)\n",
    "\n",
    "faces = np.array(np.vstack(plydata['face']['vertex_indices']))\n",
    "\n",
    "mesh = tm.Trimesh(vertices=vertices, faces=faces)\n",
    "\n",
    "ds_mesh = mesh.simplify_quadric_decimation(int(mesh.vertices.shape[0]/10))"
   ]
  },
  {
   "cell_type": "code",
   "execution_count": null,
   "metadata": {},
   "outputs": [],
   "source": [
    "# ps.init()\n",
    "\n",
    "# ps_mesh = ps.register_surface_mesh(\"my mesh\", ds_mesh.vertices, ds_mesh.faces)\n",
    "# ps_mesh.add_vector_quantity(\"rand vecs\", ds_mesh.vertex_normals, enabled=True)\n",
    "\n",
    "\n",
    "# ps.show()"
   ]
  },
  {
   "cell_type": "code",
   "execution_count": 48,
   "metadata": {},
   "outputs": [],
   "source": [
    "XP = jnp.hstack([ds_mesh.vertex_normals, ds_mesh.vertices])\n",
    "X  = jnp.zeros((100,6))"
   ]
  },
  {
   "cell_type": "code",
   "execution_count": 90,
   "metadata": {},
   "outputs": [],
   "source": [
    "X_samples = ds_mesh.vertices+ds_mesh.vertex_normals*0.05\n",
    "P_XI      = jnp.ones(X_samples.shape[0])\n",
    "P_XI = P_XI/np.sum(P_XI)\n",
    "h = 0.01\n",
    "args = {'h' : h, 'vertices' : ds_mesh.vertices, 'normals' : ds_mesh.vertex_normals}"
   ]
  },
  {
   "cell_type": "code",
   "execution_count": 1,
   "metadata": {},
   "outputs": [
    {
     "ename": "NameError",
     "evalue": "name 'np' is not defined",
     "output_type": "error",
     "traceback": [
      "\u001b[0;31m---------------------------------------------------------------------------\u001b[0m",
      "\u001b[0;31mNameError\u001b[0m                                 Traceback (most recent call last)",
      "Cell \u001b[0;32mIn[1], line 1\u001b[0m\n\u001b[0;32m----> 1\u001b[0m v1 \u001b[38;5;241m=\u001b[39m \u001b[43mnp\u001b[49m\u001b[38;5;241m.\u001b[39marray([\u001b[38;5;241m0.\u001b[39m, \u001b[38;5;241m0.\u001b[39m, \u001b[38;5;241m1.\u001b[39m])\n\u001b[1;32m      2\u001b[0m \u001b[38;5;28;01mdef\u001b[39;00m \u001b[38;5;21mphi\u001b[39m(x, xp, h\u001b[38;5;241m=\u001b[39m\u001b[38;5;241m0.01\u001b[39m):\n\u001b[1;32m      3\u001b[0m     w, v        \u001b[38;5;241m=\u001b[39m jnp\u001b[38;5;241m.\u001b[39msplit(x,\u001b[38;5;241m2\u001b[39m)\n",
      "\u001b[0;31mNameError\u001b[0m: name 'np' is not defined"
     ]
    }
   ],
   "source": [
    "v1 = np.array([0., 0., 1.])\n",
    "def phi(x, xp, h=0.01):\n",
    "    w, v        = jnp.split(x,2)\n",
    "    norm, root  = jnp.split(xp, 2)\n",
    "    _R = SO3.exp(w)\n",
    "    return jnp.exp(\n",
    "        -(jnp.sum((norm+_R@v1)**2)+ np.sum((norm+root-v)**2))/h\n",
    "    )\n",
    "\n",
    "def RBF(x, xp, h=0.01):\n",
    "    w, v        = jnp.split(x,2)\n",
    "    norm, root  = jnp.split(xp, 2)\n",
    "    return np.exp(\n",
    "        -np.sum((v-root)**2 + (norm-w)**2)/h\n",
    "    )"
   ]
  },
  {
   "cell_type": "code",
   "execution_count": 92,
   "metadata": {},
   "outputs": [],
   "source": [
    "phi_vmapped = vmap(vmap(phi, in_axes=(0,None,None)),in_axes=(None,0,None))"
   ]
  },
  {
   "cell_type": "code",
   "execution_count": 95,
   "metadata": {},
   "outputs": [],
   "source": [
    "KernelMatrix = create_kernel_matrix(RBF)\n",
    "\n",
    "x0 =  X_samples.min(axis=0)\n",
    "xf =  X_samples.max(axis=0)\n",
    "T = 80\n",
    "X_init = np.linspace(x0, xf, num=T, endpoint=True)\n",
    "V_init = np.zeros_like(X_init)\n",
    "\n",
    "X = jnp.hstack([V_init, X_init])\n",
    "\n",
    "sol, unflatten_X = ravel_pytree(X)\n",
    "bounds = (-np.inf * np.ones_like(sol), np.inf * np.ones_like(sol))\n",
    "\n",
    "def ergodic_mmd(flat_X, args):\n",
    "    X_init = unflatten_X(flat_X)\n",
    "    w, v        = jnp.split(X_init,2, axis=1)\n",
    "\n",
    "    T = X_init.shape[0]\n",
    "    h = args['h']\n",
    "    # x0 = args['x0']\n",
    "    vertices = args['vertices']\n",
    "    norms    = args['normals']\n",
    "    XP = jnp.hstack([norms, vertices])\n",
    "    # P_XI      = jnp.sum(phi_vmapped(X_init, XP, h), axis=1)\n",
    "    return np.sum(KernelMatrix(v, v, h))/(T**2) \\\n",
    "            - 2 * np.sum(P_XI @ KernelMatrix(v, vertices+norms, h))/T \\\n",
    "            + np.mean((v[1:]-v[:-1])**2)\n",
    "            # + np.sum((X_init[0]-x0)**2)\n",
    "\n",
    "solver = jaxopt.ProjectedGradient(fun=ergodic_mmd, projection=jaxopt.projection.projection_box, tol=1e-6)\n",
    "solver_state = solver.init_state(sol, hyperparams_proj=bounds)\n",
    "# sol = solver.run(init_params=sol, \n",
    "#                         hyperparams_proj=bounds,  \n",
    "#                         args=args).params\n",
    "\n",
    "X = unflatten_X(sol)"
   ]
  },
  {
   "cell_type": "code",
   "execution_count": 96,
   "metadata": {},
   "outputs": [
    {
     "ename": "KeyboardInterrupt",
     "evalue": "",
     "output_type": "error",
     "traceback": [
      "\u001b[0;31m---------------------------------------------------------------------------\u001b[0m",
      "\u001b[0;31mKeyboardInterrupt\u001b[0m                         Traceback (most recent call last)",
      "Cell \u001b[0;32mIn[96], line 8\u001b[0m\n\u001b[1;32m      5\u001b[0m ps_traj         \u001b[38;5;241m=\u001b[39m ps\u001b[38;5;241m.\u001b[39mregister_curve_network(\u001b[38;5;124m\"\u001b[39m\u001b[38;5;124mtrajectory\u001b[39m\u001b[38;5;124m\"\u001b[39m, X_init \u001b[38;5;241m*\u001b[39m \u001b[38;5;241m1.25\u001b[39m, edges\u001b[38;5;241m=\u001b[39m\u001b[38;5;124m\"\u001b[39m\u001b[38;5;124mline\u001b[39m\u001b[38;5;124m\"\u001b[39m)\n\u001b[1;32m      7\u001b[0m \u001b[38;5;28;01mfor\u001b[39;00m _ \u001b[38;5;129;01min\u001b[39;00m \u001b[38;5;28mrange\u001b[39m(\u001b[38;5;241m1000\u001b[39m):\n\u001b[0;32m----> 8\u001b[0m     (sol, solver_state) \u001b[38;5;241m=\u001b[39m \u001b[43msolver\u001b[49m\u001b[38;5;241;43m.\u001b[39;49m\u001b[43mupdate\u001b[49m\u001b[43m(\u001b[49m\n\u001b[1;32m      9\u001b[0m \u001b[43m                        \u001b[49m\u001b[43mparams\u001b[49m\u001b[38;5;241;43m=\u001b[39;49m\u001b[43msol\u001b[49m\u001b[43m,\u001b[49m\u001b[43m \u001b[49m\n\u001b[1;32m     10\u001b[0m \u001b[43m                        \u001b[49m\u001b[43mstate\u001b[49m\u001b[38;5;241;43m=\u001b[39;49m\u001b[43msolver_state\u001b[49m\u001b[43m,\u001b[49m\u001b[43m \u001b[49m\n\u001b[1;32m     11\u001b[0m \u001b[43m                        \u001b[49m\u001b[43mhyperparams_proj\u001b[49m\u001b[38;5;241;43m=\u001b[39;49m\u001b[43mbounds\u001b[49m\u001b[43m,\u001b[49m\u001b[43m \u001b[49m\n\u001b[1;32m     12\u001b[0m \u001b[43m                                \u001b[49m\u001b[43margs\u001b[49m\u001b[38;5;241;43m=\u001b[39;49m\u001b[43margs\u001b[49m\u001b[43m)\u001b[49m\n\u001b[1;32m     13\u001b[0m     X \u001b[38;5;241m=\u001b[39m unflatten_X(sol)\n\u001b[1;32m     14\u001b[0m     ps_traj\u001b[38;5;241m.\u001b[39mupdate_node_positions(X[:,:\u001b[38;5;241m3\u001b[39m])\n",
      "File \u001b[0;32m<string>:1\u001b[0m, in \u001b[0;36m<lambda>\u001b[0;34m(_cls, iter_num, stepsize, error, aux, velocity, t)\u001b[0m\n",
      "\u001b[0;31mKeyboardInterrupt\u001b[0m: "
     ]
    }
   ],
   "source": [
    "ps.init()\n",
    "\n",
    "ps_bunny_mesh = ps.register_surface_mesh(\"bunny\", ds_mesh.vertices, ds_mesh.faces)\n",
    "ps_bunny_mesh.set_transparency(0.8)\n",
    "ps_traj         = ps.register_curve_network(\"trajectory\", X_init * 1.25, edges=\"line\")\n",
    "\n",
    "for _ in range(1000):\n",
    "    (sol, solver_state) = solver.update(\n",
    "                        params=sol, \n",
    "                        state=solver_state, \n",
    "                        hyperparams_proj=bounds, \n",
    "                                args=args)\n",
    "    X = unflatten_X(sol)\n",
    "    ps_traj.update_node_positions(X[:,:3])\n",
    "    ps.frame_tick()\n",
    "\n",
    "    time.sleep(0.001)"
   ]
  },
  {
   "cell_type": "code",
   "execution_count": 23,
   "metadata": {},
   "outputs": [
    {
     "ename": "KeyboardInterrupt",
     "evalue": "",
     "output_type": "error",
     "traceback": [
      "\u001b[0;31m---------------------------------------------------------------------------\u001b[0m",
      "\u001b[0;31mKeyboardInterrupt\u001b[0m                         Traceback (most recent call last)",
      "Cell \u001b[0;32mIn[23], line 9\u001b[0m\n\u001b[1;32m      5\u001b[0m \u001b[38;5;66;03m# ps_bunny_mesh.add_scalar_quantity('info_distr', mesh_func.func_vals, defined_on='vertices', cmap='blues')\u001b[39;00m\n\u001b[1;32m      7\u001b[0m ps_traj         \u001b[38;5;241m=\u001b[39m ps\u001b[38;5;241m.\u001b[39mregister_curve_network(\u001b[38;5;124m\"\u001b[39m\u001b[38;5;124mtrajectory\u001b[39m\u001b[38;5;124m\"\u001b[39m, X \u001b[38;5;241m*\u001b[39m \u001b[38;5;241m1.25\u001b[39m, edges\u001b[38;5;241m=\u001b[39m\u001b[38;5;124m\"\u001b[39m\u001b[38;5;124mline\u001b[39m\u001b[38;5;124m\"\u001b[39m)\n\u001b[0;32m----> 9\u001b[0m \u001b[43mps\u001b[49m\u001b[38;5;241;43m.\u001b[39;49m\u001b[43mshow\u001b[49m\u001b[43m(\u001b[49m\u001b[43m)\u001b[49m\n",
      "File \u001b[0;32m~/miniconda3/lib/python3.10/site-packages/polyscope/core.py:24\u001b[0m, in \u001b[0;36mshow\u001b[0;34m(forFrames)\u001b[0m\n\u001b[1;32m     22\u001b[0m \u001b[38;5;250m\u001b[39m\u001b[38;5;124;03m\"\"\"Show the Polyscope GUI (blocks until UI is exited)\"\"\"\u001b[39;00m\n\u001b[1;32m     23\u001b[0m \u001b[38;5;28;01mif\u001b[39;00m forFrames \u001b[38;5;129;01mis\u001b[39;00m \u001b[38;5;28;01mNone\u001b[39;00m:\n\u001b[0;32m---> 24\u001b[0m     \u001b[43mpsb\u001b[49m\u001b[38;5;241;43m.\u001b[39;49m\u001b[43mshow\u001b[49m\u001b[43m(\u001b[49m\u001b[43m)\u001b[49m\n\u001b[1;32m     25\u001b[0m \u001b[38;5;28;01melse\u001b[39;00m:\n\u001b[1;32m     26\u001b[0m     psb\u001b[38;5;241m.\u001b[39mshow(forFrames)\n",
      "\u001b[0;31mKeyboardInterrupt\u001b[0m: "
     ]
    }
   ],
   "source": [
    "ps.init()\n",
    "\n",
    "ps_bunny_mesh = ps.register_surface_mesh(\"bunny\", ds_mesh.vertices, ds_mesh.faces)\n",
    "ps_bunny_mesh.set_transparency(0.8)\n",
    "# ps_bunny_mesh.add_scalar_quantity('info_distr', mesh_func.func_vals, defined_on='vertices', cmap='blues')\n",
    "\n",
    "ps_traj         = ps.register_curve_network(\"trajectory\", X * 1.25, edges=\"line\")\n",
    "\n",
    "ps.show()"
   ]
  },
  {
   "cell_type": "code",
   "execution_count": 31,
   "metadata": {},
   "outputs": [
    {
     "data": {
      "text/plain": [
       "(1766, 100)"
      ]
     },
     "execution_count": 31,
     "metadata": {},
     "output_type": "execute_result"
    }
   ],
   "source": [
    "lie_RBK_Grammian(X, XP, 0.1).shape"
   ]
  },
  {
   "cell_type": "code",
   "execution_count": 22,
   "metadata": {},
   "outputs": [],
   "source": [
    "def lie_RBF(x, xp, h=0.01):\n",
    "    w, v        = jnp.split(x,2)\n",
    "    norm, root  = jnp.split(xp, 2)\n",
    "    _R = SO3.exp(w)\n",
    "    return jnp.exp(\n",
    "        -(jnp.sum((norm+_R@v1)**2) + np.sum((norm+root-v)**2))/h\n",
    "    )\n",
    "\n",
    "def create_kernel_matrix(kernel):\n",
    "    return vmap(vmap(kernel, in_axes=(0, None, None)), in_axes=(None, 0, None))"
   ]
  },
  {
   "cell_type": "code",
   "execution_count": null,
   "metadata": {},
   "outputs": [],
   "source": []
  }
 ],
 "metadata": {
  "kernelspec": {
   "display_name": "base",
   "language": "python",
   "name": "python3"
  },
  "language_info": {
   "codemirror_mode": {
    "name": "ipython",
    "version": 3
   },
   "file_extension": ".py",
   "mimetype": "text/x-python",
   "name": "python",
   "nbconvert_exporter": "python",
   "pygments_lexer": "ipython3",
   "version": "3.10.2"
  }
 },
 "nbformat": 4,
 "nbformat_minor": 2
}
