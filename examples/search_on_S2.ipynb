{
 "cells": [
  {
   "cell_type": "code",
   "execution_count": 1,
   "metadata": {},
   "outputs": [
    {
     "name": "stderr",
     "output_type": "stream",
     "text": [
      "objc[21804]: Class GLFWWindowDelegate is implemented in both /Users/ia285/miniconda3/lib/python3.10/site-packages/polyscope_bindings.cpython-310-darwin.so (0x158be6e90) and /Users/ia285/miniconda3/lib/python3.10/site-packages/open3d/cpu/pybind.cpython-310-darwin.so (0x16c07edb0). One of the two will be used. Which one is undefined.\n",
      "objc[21804]: Class GLFWApplicationDelegate is implemented in both /Users/ia285/miniconda3/lib/python3.10/site-packages/polyscope_bindings.cpython-310-darwin.so (0x158be6e68) and /Users/ia285/miniconda3/lib/python3.10/site-packages/open3d/cpu/pybind.cpython-310-darwin.so (0x16c07ee28). One of the two will be used. Which one is undefined.\n",
      "objc[21804]: Class GLFWContentView is implemented in both /Users/ia285/miniconda3/lib/python3.10/site-packages/polyscope_bindings.cpython-310-darwin.so (0x158be6ee0) and /Users/ia285/miniconda3/lib/python3.10/site-packages/open3d/cpu/pybind.cpython-310-darwin.so (0x16c07ee50). One of the two will be used. Which one is undefined.\n",
      "objc[21804]: Class GLFWWindow is implemented in both /Users/ia285/miniconda3/lib/python3.10/site-packages/polyscope_bindings.cpython-310-darwin.so (0x158be6f58) and /Users/ia285/miniconda3/lib/python3.10/site-packages/open3d/cpu/pybind.cpython-310-darwin.so (0x16c07eec8). One of the two will be used. Which one is undefined.\n"
     ]
    }
   ],
   "source": [
    "import sys \n",
    "sys.path.append('../')\n",
    "import robust_laplacian\n",
    "import jax \n",
    "import jax.numpy as np \n",
    "import numpy as onp\n",
    "from jax.random import normal\n",
    "from jax import grad, hessian, vmap, pmap\n",
    "from jax.flatten_util import ravel_pytree\n",
    "from jax.lax import scan\n",
    "from functools import partial\n",
    "import jax.random as jax_random\n",
    "import matplotlib.pyplot as plt \n",
    "from IPython.display import clear_output\n",
    "# import scipy.sparse.linalg as sla\n",
    "# import jax.scipy.sparse.linalg as sla\n",
    "\n",
    "import jaxopt\n",
    "\n",
    "import polyscope as ps\n",
    "from mesh_distributions import BunnyMesh, DownSampledBunny, MeshDistr, SphereMesh\n",
    "from ergodic_mmd.planner import ErgodicMMDPlanner\n",
    "from ergodic_mmd.kernel import RBF\n"
   ]
  },
  {
   "cell_type": "code",
   "execution_count": 6,
   "metadata": {},
   "outputs": [],
   "source": [
    "bunny_mesh = SphereMesh()\n",
    "mesh = SphereMesh()\n",
    "\n",
    "info_distr = lambda x: 1.0#np.exp(-np.sum((x-0.75)**2))\n",
    "mesh_func = MeshDistr(bunny_mesh, info_distr)\n",
    "ds_mesh_func = MeshDistr(mesh, info_distr)\n",
    "\n",
    "vect_info = vmap(info_distr, in_axes=(0,))"
   ]
  },
  {
   "cell_type": "code",
   "execution_count": 7,
   "metadata": {},
   "outputs": [],
   "source": [
    "X_samples = ds_mesh_func.verts\n",
    "P_XI      = ds_mesh_func.func_vals\n",
    "P_XI = P_XI/np.sum(P_XI)\n",
    "h = 0.01\n",
    "args = {'h' : h, 'X_samples' : X_samples, 'P_XI' : P_XI}"
   ]
  },
  {
   "cell_type": "code",
   "execution_count": 8,
   "metadata": {},
   "outputs": [],
   "source": [
    "planner = ErgodicMMDPlanner(ds_mesh_func, RBF)\n",
    "\n",
    "X = planner.plan(args, max_iter=1)"
   ]
  },
  {
   "cell_type": "code",
   "execution_count": 9,
   "metadata": {},
   "outputs": [
    {
     "ename": "KeyboardInterrupt",
     "evalue": "",
     "output_type": "error",
     "traceback": [
      "\u001b[0;31m---------------------------------------------------------------------------\u001b[0m",
      "\u001b[0;31mKeyboardInterrupt\u001b[0m                         Traceback (most recent call last)",
      "Cell \u001b[0;32mIn[9], line 10\u001b[0m\n\u001b[1;32m      7\u001b[0m ps_traj         \u001b[38;5;241m=\u001b[39m ps\u001b[38;5;241m.\u001b[39mregister_curve_network(\u001b[38;5;124m\"\u001b[39m\u001b[38;5;124mtrajectory\u001b[39m\u001b[38;5;124m\"\u001b[39m, X \u001b[38;5;241m*\u001b[39m \u001b[38;5;241m1.25\u001b[39m, edges\u001b[38;5;241m=\u001b[39m\u001b[38;5;124m\"\u001b[39m\u001b[38;5;124mline\u001b[39m\u001b[38;5;124m\"\u001b[39m)\n\u001b[1;32m      9\u001b[0m \u001b[38;5;28;01mfor\u001b[39;00m _ \u001b[38;5;129;01min\u001b[39;00m \u001b[38;5;28mrange\u001b[39m(\u001b[38;5;241m1000\u001b[39m):\n\u001b[0;32m---> 10\u001b[0m     X \u001b[38;5;241m=\u001b[39m \u001b[43mplanner\u001b[49m\u001b[38;5;241;43m.\u001b[39;49m\u001b[43mplan\u001b[49m\u001b[43m(\u001b[49m\u001b[43margs\u001b[49m\u001b[43m,\u001b[49m\u001b[43m \u001b[49m\u001b[43mmax_iter\u001b[49m\u001b[38;5;241;43m=\u001b[39;49m\u001b[38;5;241;43m1\u001b[39;49m\u001b[43m)\u001b[49m\n\u001b[1;32m     11\u001b[0m     ps_traj\u001b[38;5;241m.\u001b[39mupdate_node_positions(X\u001b[38;5;241m*\u001b[39m\u001b[38;5;241m1.25\u001b[39m)\n\u001b[1;32m     12\u001b[0m     ps\u001b[38;5;241m.\u001b[39mframe_tick()\n",
      "File \u001b[0;32m~/PlayGround/ergodic_MMD/examples/../ergodic_mmd/planner.py:39\u001b[0m, in \u001b[0;36mErgodicMMDPlanner.plan\u001b[0;34m(self, args, max_iter)\u001b[0m\n\u001b[1;32m     34\u001b[0m \u001b[38;5;28;01mdef\u001b[39;00m \u001b[38;5;21mplan\u001b[39m(\u001b[38;5;28mself\u001b[39m, args, max_iter\u001b[38;5;241m=\u001b[39m\u001b[38;5;241m100\u001b[39m):\n\u001b[1;32m     35\u001b[0m     \u001b[38;5;66;03m# self.sol = self.solver.run(init_params=self.sol, \u001b[39;00m\n\u001b[1;32m     36\u001b[0m     \u001b[38;5;66;03m#                         hyperparams_proj=self.bounds,  \u001b[39;00m\n\u001b[1;32m     37\u001b[0m     \u001b[38;5;66;03m#                         args=args).params\u001b[39;00m\n\u001b[1;32m     38\u001b[0m     \u001b[38;5;28;01mfor\u001b[39;00m _ \u001b[38;5;129;01min\u001b[39;00m \u001b[38;5;28mrange\u001b[39m(max_iter):\n\u001b[0;32m---> 39\u001b[0m         (\u001b[38;5;28mself\u001b[39m\u001b[38;5;241m.\u001b[39msol, \u001b[38;5;28mself\u001b[39m\u001b[38;5;241m.\u001b[39msolver_state) \u001b[38;5;241m=\u001b[39m \u001b[38;5;28;43mself\u001b[39;49m\u001b[38;5;241;43m.\u001b[39;49m\u001b[43msolver\u001b[49m\u001b[38;5;241;43m.\u001b[39;49m\u001b[43mupdate\u001b[49m\u001b[43m(\u001b[49m\n\u001b[1;32m     40\u001b[0m \u001b[43m                            \u001b[49m\u001b[43mparams\u001b[49m\u001b[38;5;241;43m=\u001b[39;49m\u001b[38;5;28;43mself\u001b[39;49m\u001b[38;5;241;43m.\u001b[39;49m\u001b[43msol\u001b[49m\u001b[43m,\u001b[49m\u001b[43m \u001b[49m\n\u001b[1;32m     41\u001b[0m \u001b[43m                            \u001b[49m\u001b[43mstate\u001b[49m\u001b[38;5;241;43m=\u001b[39;49m\u001b[38;5;28;43mself\u001b[39;49m\u001b[38;5;241;43m.\u001b[39;49m\u001b[43msolver_state\u001b[49m\u001b[43m,\u001b[49m\u001b[43m \u001b[49m\n\u001b[1;32m     42\u001b[0m \u001b[43m                            \u001b[49m\u001b[43mhyperparams_proj\u001b[49m\u001b[38;5;241;43m=\u001b[39;49m\u001b[38;5;28;43mself\u001b[39;49m\u001b[38;5;241;43m.\u001b[39;49m\u001b[43mbounds\u001b[49m\u001b[43m,\u001b[49m\u001b[43m \u001b[49m\n\u001b[1;32m     43\u001b[0m \u001b[43m                            \u001b[49m\u001b[43margs\u001b[49m\u001b[38;5;241;43m=\u001b[39;49m\u001b[43margs\u001b[49m\u001b[43m)\u001b[49m\n\u001b[1;32m     44\u001b[0m     \u001b[38;5;28;01mreturn\u001b[39;00m \u001b[38;5;28mself\u001b[39m\u001b[38;5;241m.\u001b[39munflatten_X(\u001b[38;5;28mself\u001b[39m\u001b[38;5;241m.\u001b[39msol)\n",
      "File \u001b[0;32m<string>:1\u001b[0m, in \u001b[0;36m<lambda>\u001b[0;34m(_cls, iter_num, stepsize, error, aux, velocity, t)\u001b[0m\n",
      "\u001b[0;31mKeyboardInterrupt\u001b[0m: "
     ]
    }
   ],
   "source": [
    "ps.init()\n",
    "\n",
    "ps_bunny_mesh = ps.register_point_cloud(\"bunny\", bunny_mesh.verts)\n",
    "ps_bunny_mesh.set_transparency(0.8)\n",
    "ps_bunny_mesh.add_scalar_quantity('info_distr', mesh_func.func_vals, cmap='blues')\n",
    "\n",
    "ps_traj         = ps.register_curve_network(\"trajectory\", X * 1.25, edges=\"line\")\n",
    "\n",
    "for _ in range(1000):\n",
    "    X = planner.plan(args, max_iter=1)\n",
    "    ps_traj.update_node_positions(X*1.25)\n",
    "    ps.frame_tick()\n",
    "\n",
    "    plt.pause(0.001)\n"
   ]
  },
  {
   "cell_type": "markdown",
   "metadata": {},
   "source": [
    "# Render stills"
   ]
  },
  {
   "cell_type": "code",
   "execution_count": null,
   "metadata": {},
   "outputs": [],
   "source": []
  }
 ],
 "metadata": {
  "kernelspec": {
   "display_name": "base",
   "language": "python",
   "name": "python3"
  },
  "language_info": {
   "codemirror_mode": {
    "name": "ipython",
    "version": 3
   },
   "file_extension": ".py",
   "mimetype": "text/x-python",
   "name": "python",
   "nbconvert_exporter": "python",
   "pygments_lexer": "ipython3",
   "version": "3.10.2"
  }
 },
 "nbformat": 4,
 "nbformat_minor": 2
}
