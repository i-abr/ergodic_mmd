{
 "cells": [
  {
   "cell_type": "code",
   "execution_count": 1,
   "metadata": {},
   "outputs": [
    {
     "name": "stderr",
     "output_type": "stream",
     "text": [
      "objc[22442]: Class GLFWWindowDelegate is implemented in both /Users/ia285/miniconda3/lib/python3.10/site-packages/polyscope_bindings.cpython-310-darwin.so (0x137646e90) and /Users/ia285/miniconda3/lib/python3.10/site-packages/open3d/cpu/pybind.cpython-310-darwin.so (0x16995adb0). One of the two will be used. Which one is undefined.\n",
      "objc[22442]: Class GLFWApplicationDelegate is implemented in both /Users/ia285/miniconda3/lib/python3.10/site-packages/polyscope_bindings.cpython-310-darwin.so (0x137646e68) and /Users/ia285/miniconda3/lib/python3.10/site-packages/open3d/cpu/pybind.cpython-310-darwin.so (0x16995ae28). One of the two will be used. Which one is undefined.\n",
      "objc[22442]: Class GLFWContentView is implemented in both /Users/ia285/miniconda3/lib/python3.10/site-packages/polyscope_bindings.cpython-310-darwin.so (0x137646ee0) and /Users/ia285/miniconda3/lib/python3.10/site-packages/open3d/cpu/pybind.cpython-310-darwin.so (0x16995ae50). One of the two will be used. Which one is undefined.\n",
      "objc[22442]: Class GLFWWindow is implemented in both /Users/ia285/miniconda3/lib/python3.10/site-packages/polyscope_bindings.cpython-310-darwin.so (0x137646f58) and /Users/ia285/miniconda3/lib/python3.10/site-packages/open3d/cpu/pybind.cpython-310-darwin.so (0x16995aec8). One of the two will be used. Which one is undefined.\n"
     ]
    }
   ],
   "source": [
    "import sys \n",
    "sys.path.append('../')\n",
    "import robust_laplacian\n",
    "import jax \n",
    "import jax.numpy as np \n",
    "import numpy as onp\n",
    "from jax.random import normal\n",
    "from jax import grad, hessian, vmap, pmap\n",
    "from jax.flatten_util import ravel_pytree\n",
    "from jax.lax import scan\n",
    "from functools import partial\n",
    "import jax.random as jax_random\n",
    "import matplotlib.pyplot as plt \n",
    "from IPython.display import clear_output\n",
    "# import scipy.sparse.linalg as sla\n",
    "# import jax.scipy.sparse.linalg as sla\n",
    "\n",
    "import jaxopt\n",
    "\n",
    "import polyscope as ps\n",
    "from mesh_distributions import BunnyMesh, DownSampledBunny, MeshDistr, SphereMesh\n",
    "from ergodic_mmd.planner import ErgodicMMDPlanner\n",
    "from ergodic_mmd.kernel import RBF\n"
   ]
  },
  {
   "cell_type": "code",
   "execution_count": 6,
   "metadata": {},
   "outputs": [],
   "source": [
    "bunny_mesh = SphereMesh()\n",
    "mesh = SphereMesh()\n",
    "\n",
    "info_distr = lambda x: np.exp(-np.sum((x-0.75)**2))\n",
    "mesh_func = MeshDistr(bunny_mesh, info_distr)\n",
    "ds_mesh_func = MeshDistr(mesh, info_distr)\n",
    "\n",
    "vect_info = vmap(info_distr, in_axes=(0,))"
   ]
  },
  {
   "cell_type": "code",
   "execution_count": 7,
   "metadata": {},
   "outputs": [],
   "source": [
    "X_samples = ds_mesh_func.verts\n",
    "P_XI      = ds_mesh_func.func_vals\n",
    "P_XI = P_XI/np.sum(P_XI)\n",
    "h = 0.01\n",
    "args = {'h' : h, 'X_samples' : X_samples, 'P_XI' : P_XI}"
   ]
  },
  {
   "cell_type": "code",
   "execution_count": 8,
   "metadata": {},
   "outputs": [],
   "source": [
    "planner = ErgodicMMDPlanner(ds_mesh_func, RBF)\n",
    "\n",
    "X = planner.plan(args, max_iter=1)"
   ]
  },
  {
   "cell_type": "code",
   "execution_count": 10,
   "metadata": {},
   "outputs": [],
   "source": [
    "ps.init()\n",
    "\n",
    "ps_bunny_mesh = ps.register_point_cloud(\"bunny\", bunny_mesh.verts)\n",
    "ps_bunny_mesh.set_transparency(0.8)\n",
    "ps_bunny_mesh.add_scalar_quantity('info_distr', mesh_func.func_vals, cmap='blues')\n",
    "\n",
    "ps_traj         = ps.register_curve_network(\"trajectory\", X * 1.25, edges=\"line\")\n",
    "\n",
    "for _ in range(1000):\n",
    "    X = planner.plan(args, max_iter=1)\n",
    "    ps_traj.update_node_positions(X*1.25)\n",
    "    ps.frame_tick()\n",
    "\n",
    "    plt.pause(0.001)\n"
   ]
  },
  {
   "cell_type": "markdown",
   "metadata": {},
   "source": [
    "# Render stills"
   ]
  },
  {
   "cell_type": "code",
   "execution_count": null,
   "metadata": {},
   "outputs": [],
   "source": []
  }
 ],
 "metadata": {
  "kernelspec": {
   "display_name": "base",
   "language": "python",
   "name": "python3"
  },
  "language_info": {
   "codemirror_mode": {
    "name": "ipython",
    "version": 3
   },
   "file_extension": ".py",
   "mimetype": "text/x-python",
   "name": "python",
   "nbconvert_exporter": "python",
   "pygments_lexer": "ipython3",
   "version": "3.10.2"
  }
 },
 "nbformat": 4,
 "nbformat_minor": 2
}
